{
 "cells": [
  {
   "cell_type": "markdown",
   "id": "af3a9aa8-ee89-4b8e-a5f9-5ffba691db4c",
   "metadata": {},
   "source": [
    "## PPA 1 - Twin Primes betwen m and n"
   ]
  },
  {
   "cell_type": "code",
   "execution_count": 1,
   "id": "47c7d608-ebf6-4216-8962-7b1c0a22869e",
   "metadata": {},
   "outputs": [],
   "source": [
    "import math\n",
    "\n",
    "def prime(n):\n",
    "    if n == 1:\n",
    "        return False\n",
    "    isPrime = True\n",
    "    for i in range(2, int(math.sqrt(n+1)) + 1):\n",
    "        if n % i == 0:\n",
    "            isPrime = False\n",
    "            break\n",
    "    return isPrime\n",
    "    \n",
    "def Twin_Primes(n, m):\n",
    "    pl = []\n",
    "    for i in range(n, m+1):\n",
    "        if prime(i):\n",
    "            pl.append(i)\n",
    "    res = []\n",
    "    for i in range(1,len(pl)):\n",
    "        if pl[i] - pl[i-1] == 2:\n",
    "            res.append((pl[i-1], pl[i]))\n",
    "    return res"
   ]
  },
  {
   "cell_type": "code",
   "execution_count": 2,
   "id": "4e487fd0-556e-4711-be9d-922480e620e0",
   "metadata": {},
   "outputs": [
    {
     "name": "stdout",
     "output_type": "stream",
     "text": [
      "[(3, 5), (5, 7), (11, 13)]\n"
     ]
    }
   ],
   "source": [
    "a=1\n",
    "b=15\n",
    "print(sorted(Twin_Primes(a, b)))"
   ]
  },
  {
   "cell_type": "markdown",
   "id": "4c8c413d-3c6b-44aa-85d6-292ac79eb3a9",
   "metadata": {},
   "source": [
    "## PPA 2 - Triangle classification "
   ]
  },
  {
   "cell_type": "code",
   "execution_count": 3,
   "id": "d3d68241-2059-4c88-849e-dba18b783187",
   "metadata": {},
   "outputs": [],
   "source": [
    "import math\n",
    "class Triangle:\n",
    "    def __init__(self, a, b, c):\n",
    "        self.a = a\n",
    "        self.b = b\n",
    "        self.c = c\n",
    "    def Is_valid(self):\n",
    "        a,b,c = self.a, self.b, self.c\n",
    "        if a + b > c and a + c > b and b + c > a:\n",
    "            return 'Valid'\n",
    "        return 'Invalid'\n",
    "    def Side_Classification(self):\n",
    "        a,b,c = self.a, self.b, self.c\n",
    "        if self.Is_valid() == 'Invalid':\n",
    "            return 'Invalid'\n",
    "        if a == b and b == c:\n",
    "            return 'Equilateral'\n",
    "        if (a == b and b != c) or (b == c and a != c) or (c == a and a != b):\n",
    "            return 'Isosceles'\n",
    "        return 'Scalene'\n",
    "    def Angle_Classification(self):\n",
    "        l = [self.a ** 2, self.b ** 2, self.c ** 2]\n",
    "        l.sort()\n",
    "        a,b,c = l\n",
    "        if self.Is_valid() == 'Invalid':\n",
    "            return 'Invalid'\n",
    "        if a + b > c:\n",
    "            return 'Acute'\n",
    "        if a + b == c:\n",
    "            return 'Right'\n",
    "        return 'Obtuse'\n",
    "    def Area(self):\n",
    "        a,b,c,s = self.a, self.b, self.c, (self.a + self.b + self.c) / 2\n",
    "        if self.Is_valid() == 'Invalid':\n",
    "            return 'Invalid'\n",
    "        return math.sqrt(s * (s - a) * (s - b) * (s - c))"
   ]
  },
  {
   "cell_type": "code",
   "execution_count": 4,
   "id": "1f0ff755-695f-4259-8bfc-35c9e0f778c2",
   "metadata": {},
   "outputs": [
    {
     "name": "stdout",
     "output_type": "stream",
     "text": [
      "Valid\n",
      "Scalene\n",
      "Obtuse\n",
      "2.9047375096555625\n"
     ]
    }
   ],
   "source": [
    "a=2\n",
    "b=3\n",
    "c=4\n",
    "T=Triangle(a,b,c)\n",
    "print(T.Is_valid())\n",
    "print(T.Side_Classification())\n",
    "print(T.Angle_Classification())\n",
    "print(T.Area())"
   ]
  }
 ],
 "metadata": {
  "kernelspec": {
   "display_name": "Python 3 (ipykernel)",
   "language": "python",
   "name": "python3"
  },
  "language_info": {
   "codemirror_mode": {
    "name": "ipython",
    "version": 3
   },
   "file_extension": ".py",
   "mimetype": "text/x-python",
   "name": "python",
   "nbconvert_exporter": "python",
   "pygments_lexer": "ipython3",
   "version": "3.10.2"
  }
 },
 "nbformat": 4,
 "nbformat_minor": 5
}
