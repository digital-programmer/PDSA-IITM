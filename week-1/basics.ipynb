{
 "cells": [
  {
   "cell_type": "markdown",
   "id": "21c72d46-54ba-4dfb-a205-cc98ea819a34",
   "metadata": {
    "tags": []
   },
   "source": [
    "## Compute Primes from 1 to 100"
   ]
  },
  {
   "cell_type": "code",
   "execution_count": 1,
   "id": "9f389ce2-0ab5-4bd1-9e4d-eb97283baadf",
   "metadata": {},
   "outputs": [],
   "source": [
    "import math, sys"
   ]
  },
  {
   "cell_type": "code",
   "execution_count": 2,
   "id": "8d4f7408-e0be-4871-987d-8d0dd9394ffc",
   "metadata": {},
   "outputs": [],
   "source": [
    "sys.setrecursionlimit(100000)"
   ]
  },
  {
   "cell_type": "code",
   "execution_count": 3,
   "id": "7dde7162-4e69-4c81-877f-aeeb6a11bb76",
   "metadata": {},
   "outputs": [],
   "source": [
    "def factors(n):\n",
    "    factorList = []\n",
    "    for i in range(1, n+1):\n",
    "        if n % i == 0:\n",
    "            factorList.append(i)\n",
    "    return factorList"
   ]
  },
  {
   "cell_type": "code",
   "execution_count": 4,
   "id": "b5017ef4-dd86-4721-a3e4-db3ee9d362d8",
   "metadata": {},
   "outputs": [],
   "source": [
    "def prime(n):\n",
    "    return factors(n) == [1, n]"
   ]
  },
  {
   "cell_type": "code",
   "execution_count": 5,
   "id": "3892765c-f0c9-4742-817b-88c29a7b70d4",
   "metadata": {},
   "outputs": [],
   "source": [
    "def prime(n):\n",
    "    return len(factors(n)) == 2"
   ]
  },
  {
   "cell_type": "code",
   "execution_count": 6,
   "id": "9c60b9d4-7ecd-4499-9518-f4da75840205",
   "metadata": {},
   "outputs": [],
   "source": [
    "def prime(n):\n",
    "    result, i = True, 2\n",
    "    while result and i <= math.sqrt(n):\n",
    "        if n % i == 0:\n",
    "            result = False\n",
    "        i += 1\n",
    "    return result"
   ]
  },
  {
   "cell_type": "code",
   "execution_count": 7,
   "id": "7b7cb165-82b5-4400-976c-5e2389cef8b7",
   "metadata": {},
   "outputs": [
    {
     "name": "stdout",
     "output_type": "stream",
     "text": [
      "[1, 2, 3, 5, 7, 11, 13, 17, 19, 23, 29, 31, 37, 41, 43, 47, 53, 59, 61, 67, 71, 73, 79, 83, 89, 97]\n"
     ]
    }
   ],
   "source": [
    "primeList = []\n",
    "for i in range(1, 101):\n",
    "    if prime(i):\n",
    "        primeList.append(i)\n",
    "print(primeList)"
   ]
  },
  {
   "cell_type": "code",
   "execution_count": 8,
   "id": "cf1e1a3d-77ff-4a4f-aa8f-2f8917a564d9",
   "metadata": {},
   "outputs": [],
   "source": [
    "def primeUpto(m):\n",
    "    pl = []\n",
    "    for i in range(1, m+1):\n",
    "        if prime(i):\n",
    "            pl.append(i)\n",
    "    return pl"
   ]
  },
  {
   "cell_type": "code",
   "execution_count": 9,
   "id": "44256230-9de0-4be3-8b81-6b996a7e482c",
   "metadata": {},
   "outputs": [
    {
     "data": {
      "text/plain": [
       "[1, 2, 3, 5, 7]"
      ]
     },
     "execution_count": 9,
     "metadata": {},
     "output_type": "execute_result"
    }
   ],
   "source": [
    "primeUpto(10)"
   ]
  },
  {
   "cell_type": "code",
   "execution_count": 10,
   "id": "bd7b3bec-6da7-4b92-bb0e-4e86bb82f9af",
   "metadata": {},
   "outputs": [],
   "source": [
    "def firstPrimes(m):\n",
    "    count, i, pl = 0, 1, []\n",
    "    while count < m:\n",
    "        if prime(i):\n",
    "            count, pl = count + 1, pl + [i]\n",
    "        i += 1\n",
    "    return pl"
   ]
  },
  {
   "cell_type": "code",
   "execution_count": 11,
   "id": "5e1ae574-5058-42eb-bcaa-b9814a375ddc",
   "metadata": {},
   "outputs": [
    {
     "data": {
      "text/plain": [
       "[1, 2, 3, 5, 7, 11, 13, 17, 19, 23]"
      ]
     },
     "execution_count": 11,
     "metadata": {},
     "output_type": "execute_result"
    }
   ],
   "source": [
    "firstPrimes(10)"
   ]
  },
  {
   "cell_type": "code",
   "execution_count": 12,
   "id": "ca28e63d-39a5-4b44-b594-c53d2de9834f",
   "metadata": {},
   "outputs": [
    {
     "data": {
      "text/plain": [
       "True"
      ]
     },
     "execution_count": 12,
     "metadata": {},
     "output_type": "execute_result"
    }
   ],
   "source": [
    "prime(31)"
   ]
  },
  {
   "cell_type": "code",
   "execution_count": 13,
   "id": "57f49a8d-6596-480f-9160-a8a511a1bef4",
   "metadata": {},
   "outputs": [],
   "source": [
    "def primediffs(n):\n",
    "    lastprime = 2\n",
    "    pd = {}\n",
    "    for i in range(3, n+1):\n",
    "        if prime(i):\n",
    "            d = i - lastprime\n",
    "            lastprime = i\n",
    "            if d in pd.keys():\n",
    "                pd[d] += 1\n",
    "            else:\n",
    "                pd[d] = 1\n",
    "    return pd"
   ]
  },
  {
   "cell_type": "code",
   "execution_count": 14,
   "id": "ab660eab-78bf-4675-abde-8ad7f34e3bee",
   "metadata": {},
   "outputs": [
    {
     "data": {
      "text/plain": [
       "{1: 1, 2: 8, 4: 7, 6: 7, 8: 1}"
      ]
     },
     "execution_count": 14,
     "metadata": {},
     "output_type": "execute_result"
    }
   ],
   "source": [
    "primediffs(100)"
   ]
  },
  {
   "cell_type": "markdown",
   "id": "a525a752-f49a-4cc0-971d-e028ec6421b5",
   "metadata": {},
   "source": [
    "## Computing GCD"
   ]
  },
  {
   "cell_type": "markdown",
   "id": "f6d98b24-720e-4adc-9b99-f0ed7e09b831",
   "metadata": {},
   "source": [
    "#### Naive way"
   ]
  },
  {
   "cell_type": "code",
   "execution_count": 15,
   "id": "063ddac4-8733-48fa-9807-80bc7f67de29",
   "metadata": {},
   "outputs": [],
   "source": [
    "# Time - min(m,n)\n",
    "def gcd(m, n):\n",
    "    for i in range(1, min(m,n) + 1):\n",
    "        if m % i == 0 and n % i == 0:\n",
    "            mrcf = i\n",
    "    return mrcf"
   ]
  },
  {
   "cell_type": "code",
   "execution_count": 16,
   "id": "93b1922c-fda6-4f9f-8f3c-fa4b5921228b",
   "metadata": {
    "tags": []
   },
   "outputs": [],
   "source": [
    "# Time - max(m,n)\n",
    "def gcd(m,n):\n",
    "    a, b = max(m,n), min(m,n)\n",
    "    if a % b == 0:\n",
    "        return b\n",
    "    return gcd(b, a-b)"
   ]
  },
  {
   "cell_type": "markdown",
   "id": "1ea6465e-6611-4bff-be07-4193aa875da3",
   "metadata": {},
   "source": [
    "#### Euclid's Algorithm"
   ]
  },
  {
   "cell_type": "code",
   "execution_count": 17,
   "id": "69b11cc1-2387-4a2a-aa27-cde136b70871",
   "metadata": {},
   "outputs": [],
   "source": [
    "# Time - max(len(m), len(n))\n",
    "def gcd(m, n):\n",
    "    a, b = max(m,n), min(m,n)\n",
    "    if a % b == 0:\n",
    "        return b\n",
    "    return gcd(b, a%b)"
   ]
  },
  {
   "cell_type": "code",
   "execution_count": 18,
   "id": "50f36841-2842-4d2e-a0ff-7bf7a1533054",
   "metadata": {},
   "outputs": [
    {
     "data": {
      "text/plain": [
       "4"
      ]
     },
     "execution_count": 18,
     "metadata": {},
     "output_type": "execute_result"
    }
   ],
   "source": [
    "gcd(8,12)"
   ]
  },
  {
   "cell_type": "markdown",
   "id": "1e80a622-3f85-4fb0-b01e-58a46ecac56e",
   "metadata": {},
   "source": [
    "## Exception Handling\n",
    "\n",
    "try:\n",
    "    \n",
    "    // error may occur\n",
    "except IndexError:\n",
    "    \n",
    "    // handle it\n",
    "except NameError, KeyError:\n",
    "    \n",
    "    // handle both of them\n",
    "except:\n",
    "    \n",
    "    // handle all other exceptions\n",
    "else:\n",
    "    \n",
    "    // if try block runs successfully    "
   ]
  },
  {
   "cell_type": "code",
   "execution_count": null,
   "id": "343a70c0-36c4-43c1-9b6a-463c73deeaa3",
   "metadata": {},
   "outputs": [],
   "source": []
  }
 ],
 "metadata": {
  "kernelspec": {
   "display_name": "Python 3 (ipykernel)",
   "language": "python",
   "name": "python3"
  },
  "language_info": {
   "codemirror_mode": {
    "name": "ipython",
    "version": 3
   },
   "file_extension": ".py",
   "mimetype": "text/x-python",
   "name": "python",
   "nbconvert_exporter": "python",
   "pygments_lexer": "ipython3",
   "version": "3.10.2"
  }
 },
 "nbformat": 4,
 "nbformat_minor": 5
}
