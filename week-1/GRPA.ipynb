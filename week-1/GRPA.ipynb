{
 "cells": [
  {
   "cell_type": "markdown",
   "id": "4fb78bfd-b73a-4336-b27f-8f0ab9c887b6",
   "metadata": {},
   "source": [
    "## GRPA 1 - Find Min difference from subsets of array"
   ]
  },
  {
   "cell_type": "code",
   "execution_count": 1,
   "id": "885502ad-5382-41d1-a3a3-6aa9f4fa011e",
   "metadata": {
    "tags": []
   },
   "outputs": [],
   "source": [
    "def find_Min_Difference(L, P):\n",
    "    subsets = find_subset_of_fixed_size(L, P)\n",
    "    minDiff = float('inf')\n",
    "    for subset in subsets:\n",
    "        diff = max(subset) - min(subset)\n",
    "        if diff < minDiff:\n",
    "            minDiff = diff\n",
    "    return minDiff"
   ]
  },
  {
   "cell_type": "code",
   "execution_count": 2,
   "id": "3112db61-d3c1-4ba2-b45e-7b08b8688abc",
   "metadata": {},
   "outputs": [],
   "source": [
    "global_result = []\n",
    "def find_subset_of_fixed_size(L, P):\n",
    "    find_combination(L, P, [], 0)\n",
    "    return global_result\n",
    "\n",
    "def find_combination(L, P, currentList, i):\n",
    "    if (len(currentList) == P):\n",
    "        global_result.append(currentList)\n",
    "        return\n",
    "    if (i >= len(L)):\n",
    "        return\n",
    "    find_combination(L, P, currentList, i + 1)\n",
    "    find_combination(L, P, currentList + [L[i]], i + 1)"
   ]
  },
  {
   "cell_type": "code",
   "execution_count": 3,
   "id": "4161cc9b-0eeb-43f0-a578-1f3a294d298d",
   "metadata": {},
   "outputs": [
    {
     "name": "stdout",
     "output_type": "stream",
     "text": [
      "2\n"
     ]
    }
   ],
   "source": [
    "L=[1,2,3,-4,3,2,1,5,-6,7,8,9,10]\n",
    "P=6\n",
    "print(find_Min_Difference(L,P))"
   ]
  },
  {
   "cell_type": "markdown",
   "id": "2ed1fc3c-21a2-44c0-bc79-c4214e0fd9b6",
   "metadata": {},
   "source": [
    "## GRPA 2 - Golbach Conjecture (Find primes which add upto to n)"
   ]
  },
  {
   "cell_type": "code",
   "execution_count": 4,
   "id": "d83abb37-7de9-40ad-a702-067b1e6decaa",
   "metadata": {},
   "outputs": [],
   "source": [
    "import math\n",
    "def Goldbach(n):\n",
    "    prime_list = primeUpto(n)\n",
    "    res = []\n",
    "    for i in range(len(prime_list) - 1):\n",
    "        for j in range(len(prime_list)):\n",
    "            if prime_list[i] + prime_list[j] == n and prime_list[i] <= prime_list[j]:\n",
    "                res.append((prime_list[i], prime_list[j]))\n",
    "    return res"
   ]
  },
  {
   "cell_type": "code",
   "execution_count": 5,
   "id": "e8a99f82-278b-4088-ab08-dc3dbcf110ac",
   "metadata": {},
   "outputs": [],
   "source": [
    "def factors(n):\n",
    "    factorList = []\n",
    "    for i in range(1, n+1):\n",
    "        if n % i == 0:\n",
    "            factorList.append(i)\n",
    "    return factorList\n",
    "\n",
    "def prime(n):\n",
    "    return factors(n) == [1, n]\n",
    "\n",
    "def primeUpto(m):\n",
    "    pl = []\n",
    "    for i in range(1, m+1):\n",
    "        if prime(i):\n",
    "            pl.append(i)\n",
    "    return pl"
   ]
  },
  {
   "cell_type": "code",
   "execution_count": 6,
   "id": "cadcbd1c-4795-4807-96e7-fd2766123cdc",
   "metadata": {},
   "outputs": [
    {
     "name": "stdout",
     "output_type": "stream",
     "text": [
      "[(3, 23), (7, 19), (13, 13)]\n"
     ]
    }
   ],
   "source": [
    "n=12\n",
    "print(sorted(Goldbach(26)))"
   ]
  },
  {
   "cell_type": "markdown",
   "id": "354a8a0e-c870-4995-b6a4-9133f4a1aa5e",
   "metadata": {},
   "source": [
    "## GRPA 3 - Find Odd One in array of atleast 3 elements"
   ]
  },
  {
   "cell_type": "code",
   "execution_count": 7,
   "id": "1e862e45-5c5b-46e6-86fe-fcdb4df4982c",
   "metadata": {},
   "outputs": [],
   "source": [
    "from collections import defaultdict\n",
    "typeDict = defaultdict(list)\n",
    "def odd_one(L):\n",
    "    for i in range(len(L)):\n",
    "        if type(L[i]) == int:\n",
    "            typeDict['int'].append(i)\n",
    "        elif type(L[i]) == float:\n",
    "            typeDict['float'].append(i)\n",
    "        elif type(L[i]) == bool:\n",
    "            typeDict['bool'].append(i)\n",
    "        else:\n",
    "            typeDict['str'].append(i)\n",
    "    sortedList = list(sorted(typeDict.items(), key = lambda x: len(x[1])))\n",
    "    return sortedList[0][0]"
   ]
  },
  {
   "cell_type": "code",
   "execution_count": 8,
   "id": "07400d54-76be-4e17-8879-f5eb5c0fa489",
   "metadata": {},
   "outputs": [
    {
     "name": "stdout",
     "output_type": "stream",
     "text": [
      "int\n"
     ]
    }
   ],
   "source": [
    "print(odd_one([1.5,2.0,3.6,1,2.6,8.6]))"
   ]
  }
 ],
 "metadata": {
  "kernelspec": {
   "display_name": "Python 3 (ipykernel)",
   "language": "python",
   "name": "python3"
  },
  "language_info": {
   "codemirror_mode": {
    "name": "ipython",
    "version": 3
   },
   "file_extension": ".py",
   "mimetype": "text/x-python",
   "name": "python",
   "nbconvert_exporter": "python",
   "pygments_lexer": "ipython3",
   "version": "3.10.2"
  }
 },
 "nbformat": 4,
 "nbformat_minor": 5
}
