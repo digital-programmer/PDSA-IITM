{
 "cells": [
  {
   "cell_type": "code",
   "execution_count": 1,
   "id": "e5f02f2f-8073-42af-b69e-151fc99d5b74",
   "metadata": {},
   "outputs": [
    {
     "name": "stdout",
     "output_type": "stream",
     "text": [
      "(3,4)\n",
      "(8,12)\n"
     ]
    }
   ],
   "source": [
    "class Point:\n",
    "  def __init__(self,a=0,b=0):\n",
    "    self.x = a\n",
    "    self.y = b\n",
    "\n",
    "  def translate(self,deltax,deltay):\n",
    "    self.x += deltax\n",
    "    self.y += deltay\n",
    "\n",
    "  def odistance(self):\n",
    "    import math\n",
    "    d = math.sqrt(self.x*self.x +\n",
    "                  self.y*self.y)\n",
    "    return(d)\n",
    "\n",
    "  def __str__(self):\n",
    "    return('('+str(self.x)+','\n",
    "            +str(self.y)+')')\n",
    "\n",
    "  def __add__(self,p):\n",
    "    return(Point(self.x + p.x, \n",
    "                 self.y + p.y))\n",
    "\n",
    "p = Point(3,4)\n",
    "q = Point(5,8)\n",
    "print(p)\n",
    "print(p+q)"
   ]
  },
  {
   "cell_type": "markdown",
   "id": "2bb059e1-08b5-4707-bb74-346be234cf5b",
   "metadata": {},
   "source": [
    "## Timing our code"
   ]
  },
  {
   "cell_type": "code",
   "execution_count": 2,
   "id": "c3c66fd6-1548-40a0-bc5b-77abe6906d5c",
   "metadata": {},
   "outputs": [],
   "source": [
    "import time"
   ]
  },
  {
   "cell_type": "code",
   "execution_count": 3,
   "id": "cb8f02c6-6e6b-4bdb-b526-e24028613f28",
   "metadata": {},
   "outputs": [],
   "source": [
    "class TimerError(Exception):\n",
    "    pass"
   ]
  },
  {
   "cell_type": "code",
   "execution_count": 4,
   "id": "d4007520-af24-4892-aeb4-6216a53a1391",
   "metadata": {},
   "outputs": [],
   "source": [
    "class Timer:\n",
    "    def __init__(self):\n",
    "        self._start_time = None\n",
    "        self._elapsed_time = None\n",
    "    \n",
    "    def start(self):\n",
    "        if self._start_time is not None:\n",
    "            raise TimerError('Timer is running. Use .stop()')\n",
    "        self._start_time = time.perf_counter()\n",
    "    \n",
    "    def stop(self):\n",
    "        if self._start_time is None:\n",
    "            raise TimerError('Timer is not running use .start()')\n",
    "        self._elapsed_time = time.perf_counter() - self._start_time\n",
    "        self._start_time = None\n",
    "    \n",
    "    def elapsed(self):\n",
    "        if self._elapsed_time is None:\n",
    "            raise TimerError('Timer has not run yet. Use .start()')\n",
    "        return self._elapsed_time\n",
    "    \n",
    "    def __str__(self):\n",
    "        return str(self._elapsed_time)"
   ]
  },
  {
   "cell_type": "code",
   "execution_count": 5,
   "id": "b064b775-3e87-45d5-8808-4136bca4d925",
   "metadata": {},
   "outputs": [
    {
     "name": "stdout",
     "output_type": "stream",
     "text": [
      "4 0.0010472079993633088\n",
      "5 0.009430957998119993\n",
      "6 0.06058537500211969\n",
      "7 0.5156530829990515\n",
      "8 5.2176192499973695\n",
      "9 52.94902812500004\n"
     ]
    }
   ],
   "source": [
    "t = Timer()\n",
    "for j in range(4, 10):\n",
    "    t.start()\n",
    "    n = 0\n",
    "    for i in range(10 ** j):\n",
    "        n = n + i\n",
    "    t.stop()\n",
    "    print(f'{j} {t}')"
   ]
  },
  {
   "cell_type": "code",
   "execution_count": null,
   "id": "b8c80e00-24cb-4877-9201-8f5640e3ac7a",
   "metadata": {},
   "outputs": [],
   "source": []
  }
 ],
 "metadata": {
  "kernelspec": {
   "display_name": "Python 3 (ipykernel)",
   "language": "python",
   "name": "python3"
  },
  "language_info": {
   "codemirror_mode": {
    "name": "ipython",
    "version": 3
   },
   "file_extension": ".py",
   "mimetype": "text/x-python",
   "name": "python",
   "nbconvert_exporter": "python",
   "pygments_lexer": "ipython3",
   "version": "3.10.2"
  }
 },
 "nbformat": 4,
 "nbformat_minor": 5
}
