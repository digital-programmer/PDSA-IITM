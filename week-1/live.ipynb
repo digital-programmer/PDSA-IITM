{
 "cells": [
  {
   "cell_type": "markdown",
   "id": "e7fbb2a0-b4e4-45ea-a1f2-02e80747fc8f",
   "metadata": {
    "tags": []
   },
   "source": [
    "# Live coding"
   ]
  },
  {
   "cell_type": "code",
   "execution_count": null,
   "id": "b788ae1e-2a20-4e3e-a75a-0622a85c3862",
   "metadata": {},
   "outputs": [],
   "source": []
  }
 ],
 "metadata": {
  "kernelspec": {
   "display_name": "Python 3 (ipykernel)",
   "language": "python",
   "name": "python3"
  },
  "language_info": {
   "codemirror_mode": {
    "name": "ipython",
    "version": 3
   },
   "file_extension": ".py",
   "mimetype": "text/x-python",
   "name": "python",
   "nbconvert_exporter": "python",
   "pygments_lexer": "ipython3",
   "version": "3.10.2"
  }
 },
 "nbformat": 4,
 "nbformat_minor": 5
}
