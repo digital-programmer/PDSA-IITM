{
 "cells": [
  {
   "cell_type": "markdown",
   "id": "2ac4b643-d73d-4f5d-b971-aff8838d9293",
   "metadata": {},
   "source": [
    "## Insertion Sort"
   ]
  },
  {
   "cell_type": "code",
   "execution_count": 1,
   "id": "d385b50c-c8e0-4f47-8dd2-149e60942402",
   "metadata": {},
   "outputs": [],
   "source": [
    "arr1 = [74, -1, 232, 2, 2, 3, 0, 21]"
   ]
  },
  {
   "cell_type": "code",
   "execution_count": 2,
   "id": "4e52fc9e-30d4-435e-b5e6-f14767390a7c",
   "metadata": {},
   "outputs": [
    {
     "data": {
      "text/plain": [
       "[-1, 0, 2, 2, 3, 21, 74, 232]"
      ]
     },
     "execution_count": 2,
     "metadata": {},
     "output_type": "execute_result"
    }
   ],
   "source": [
    "def SelectionSort(L):\n",
    "    n = len(L)\n",
    "    for i in range(n):\n",
    "        minPos = i\n",
    "        for j in range(i+1, n):\n",
    "            if L[j] < L[minPos]:\n",
    "                minPos = j\n",
    "        L[i], L[minPos] = L[minPos], L[i]\n",
    "    return L\n",
    "\n",
    "SelectionSort(arr1)"
   ]
  },
  {
   "cell_type": "markdown",
   "id": "7b279d4a-8698-40af-9a8b-baefb7b1734a",
   "metadata": {
    "tags": []
   },
   "source": [
    "## Insertion Sort"
   ]
  },
  {
   "cell_type": "code",
   "execution_count": 3,
   "id": "8cd5acbb-691a-4bbc-95e8-236d3ee773f1",
   "metadata": {},
   "outputs": [],
   "source": [
    "arr2 = [74, -1, 232, 2, 2, 3, 0, 21]"
   ]
  },
  {
   "cell_type": "markdown",
   "id": "6905d775-9d23-4208-849a-6a0f0fdfb786",
   "metadata": {},
   "source": [
    "#### Iterative way"
   ]
  },
  {
   "cell_type": "code",
   "execution_count": 4,
   "id": "69a18b09-b9b7-4a60-9623-30dd1ade3826",
   "metadata": {},
   "outputs": [
    {
     "data": {
      "text/plain": [
       "[-1, 0, 2, 2, 3, 21, 74, 232]"
      ]
     },
     "execution_count": 4,
     "metadata": {},
     "output_type": "execute_result"
    }
   ],
   "source": [
    "def InsertionSort(L):\n",
    "    n = len(L)\n",
    "    if n <= 1:\n",
    "        return L\n",
    "    for i in range(n):\n",
    "        j = i\n",
    "        while j > 0 and L[j-1] > L[j]:\n",
    "            L[j], L[j-1] = L[j-1], L[j]\n",
    "            j -= 1\n",
    "    return L\n",
    "InsertionSort(arr2)"
   ]
  },
  {
   "cell_type": "markdown",
   "id": "d56a559e-3bce-458b-b753-f8c2a6c09911",
   "metadata": {},
   "source": [
    "#### Recursive way"
   ]
  },
  {
   "cell_type": "code",
   "execution_count": 5,
   "id": "095a35cb-e80d-43ac-8bcb-4c278e525e3a",
   "metadata": {},
   "outputs": [],
   "source": [
    "import sys\n",
    "sys.setrecursionlimit(2 ** 31 - 1)"
   ]
  },
  {
   "cell_type": "code",
   "execution_count": 6,
   "id": "a42f25e4-e1ed-4e5c-bffa-f1c9ec3b13a8",
   "metadata": {},
   "outputs": [],
   "source": [
    "# not doing coz costs more"
   ]
  },
  {
   "cell_type": "markdown",
   "id": "a762be10-91f7-422e-8410-68247190dece",
   "metadata": {},
   "source": [
    "## Merge Sort"
   ]
  },
  {
   "cell_type": "code",
   "execution_count": 7,
   "id": "053aad0d-6019-4244-bd48-7776134fae3c",
   "metadata": {},
   "outputs": [],
   "source": [
    "arr3 = [74, -1, 232, 2, 2, 3, 0, 21]"
   ]
  },
  {
   "cell_type": "code",
   "execution_count": 8,
   "id": "ee356a86-7996-4f8e-a674-4df35c5bba1f",
   "metadata": {
    "jupyter": {
     "source_hidden": true
    },
    "tags": []
   },
   "outputs": [
    {
     "data": {
      "text/plain": [
       "[-1, 0, 2, 2, 3, 21, 74, 232]"
      ]
     },
     "execution_count": 8,
     "metadata": {},
     "output_type": "execute_result"
    }
   ],
   "source": [
    "def mergeSort(L):\n",
    "    n = len(L)\n",
    "    if n <= 1:\n",
    "        return L\n",
    "    left = mergeSort(L[:n//2])\n",
    "    right = mergeSort(L[n//2:])\n",
    "    res = merge(left, right)\n",
    "    return res\n",
    "\n",
    "def merge(L1, L2):\n",
    "    n = len(L1)\n",
    "    m = len(L2)\n",
    "    res = []\n",
    "    i = j = 0\n",
    "    while i < n and j < m:\n",
    "        if L1[i] < L2[j]:\n",
    "            res.append(L1[i])\n",
    "            i += 1\n",
    "        elif L1[i] > L2[j]:\n",
    "            res.append(L2[j])\n",
    "            j+=1\n",
    "        else:\n",
    "            res.append(L1[i])\n",
    "            res.append(L2[i])\n",
    "            i += 1\n",
    "            j += 1\n",
    "    if i == n:\n",
    "        res += L2[j:]\n",
    "    if j == m:\n",
    "        res += L1[i:]\n",
    "    return res\n",
    "\n",
    "mergeSort(arr3)"
   ]
  },
  {
   "cell_type": "code",
   "execution_count": null,
   "id": "a942f6ce-4917-4358-b933-f471710d65eb",
   "metadata": {},
   "outputs": [],
   "source": []
  }
 ],
 "metadata": {
  "kernelspec": {
   "display_name": "Python 3 (ipykernel)",
   "language": "python",
   "name": "python3"
  },
  "language_info": {
   "codemirror_mode": {
    "name": "ipython",
    "version": 3
   },
   "file_extension": ".py",
   "mimetype": "text/x-python",
   "name": "python",
   "nbconvert_exporter": "python",
   "pygments_lexer": "ipython3",
   "version": "3.10.2"
  }
 },
 "nbformat": 4,
 "nbformat_minor": 5
}
