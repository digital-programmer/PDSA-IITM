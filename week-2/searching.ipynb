{
 "cells": [
  {
   "cell_type": "markdown",
   "id": "9fd6f35e-c1b7-419b-9f3a-97060fddf45b",
   "metadata": {},
   "source": [
    "## Binary Search"
   ]
  },
  {
   "cell_type": "code",
   "execution_count": 1,
   "id": "503b394c-5462-41da-b2b2-d0bd7c1a7e6a",
   "metadata": {},
   "outputs": [],
   "source": [
    "def binarysearch(v, l):\n",
    "    if l == []:\n",
    "        return False\n",
    "    m = len(l) // 2\n",
    "    if l[m] == v:\n",
    "        return True\n",
    "    if v > l[m]:\n",
    "        return binarysearch(v, l[m+1:])\n",
    "    else:\n",
    "        return binarysearch(v ,l[:m])"
   ]
  },
  {
   "cell_type": "code",
   "execution_count": 2,
   "id": "c4141db1-713b-44d3-a0c1-5b7fc3997ec3",
   "metadata": {},
   "outputs": [
    {
     "data": {
      "text/plain": [
       "False"
      ]
     },
     "execution_count": 2,
     "metadata": {},
     "output_type": "execute_result"
    }
   ],
   "source": [
    "binarysearch(4, [2, 45, 6, -1, 0, 1])"
   ]
  },
  {
   "cell_type": "code",
   "execution_count": 3,
   "id": "e82dd0b5-db52-431e-bd49-2a040a05cc47",
   "metadata": {},
   "outputs": [
    {
     "data": {
      "text/plain": [
       "True"
      ]
     },
     "execution_count": 3,
     "metadata": {},
     "output_type": "execute_result"
    }
   ],
   "source": [
    "binarysearch(4, [2, 45, 6, -1, 0, 1, 4])"
   ]
  }
 ],
 "metadata": {
  "kernelspec": {
   "display_name": "Python 3 (ipykernel)",
   "language": "python",
   "name": "python3"
  },
  "language_info": {
   "codemirror_mode": {
    "name": "ipython",
    "version": 3
   },
   "file_extension": ".py",
   "mimetype": "text/x-python",
   "name": "python",
   "nbconvert_exporter": "python",
   "pygments_lexer": "ipython3",
   "version": "3.10.2"
  }
 },
 "nbformat": 4,
 "nbformat_minor": 5
}
