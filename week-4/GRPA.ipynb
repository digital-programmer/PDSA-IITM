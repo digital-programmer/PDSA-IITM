{
 "cells": [
  {
   "cell_type": "markdown",
   "id": "c9b5b499-c5b0-4c07-b285-67ee99fc93c9",
   "metadata": {},
   "source": [
    "## Find minimum distance between two nodes in undirected unweighted graph"
   ]
  },
  {
   "cell_type": "code",
   "execution_count": null,
   "id": "2c4748c2-b58b-46a6-8e7a-7c19dba600a9",
   "metadata": {},
   "outputs": [],
   "source": []
  },
  {
   "cell_type": "markdown",
   "id": "5025087f-ebf4-4c73-ad1f-abc5391a87b7",
   "metadata": {},
   "source": [
    "## Check if a node in a directed graph is connected to all other nodes"
   ]
  },
  {
   "cell_type": "code",
   "execution_count": null,
   "id": "be9111b9-13d0-4fc3-8cb4-4de0fb32290f",
   "metadata": {},
   "outputs": [],
   "source": []
  },
  {
   "cell_type": "markdown",
   "id": "a026c533-1356-4921-9c74-e89d20bb80a7",
   "metadata": {},
   "source": [
    "## Traverse from one node to another in DAG by covering maximum nodes"
   ]
  },
  {
   "cell_type": "code",
   "execution_count": null,
   "id": "76859f74-005b-4060-ac67-4c39c607aefb",
   "metadata": {},
   "outputs": [],
   "source": []
  }
 ],
 "metadata": {
  "kernelspec": {
   "display_name": "Python 3 (ipykernel)",
   "language": "python",
   "name": "python3"
  },
  "language_info": {
   "codemirror_mode": {
    "name": "ipython",
    "version": 3
   },
   "file_extension": ".py",
   "mimetype": "text/x-python",
   "name": "python",
   "nbconvert_exporter": "python",
   "pygments_lexer": "ipython3",
   "version": "3.10.2"
  }
 },
 "nbformat": 4,
 "nbformat_minor": 5
}
