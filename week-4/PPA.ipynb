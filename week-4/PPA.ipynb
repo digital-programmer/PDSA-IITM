{
 "cells": [
  {
   "cell_type": "markdown",
   "id": "7bca2a9c-0f9e-4b2a-ade9-80593538fd13",
   "metadata": {},
   "source": [
    "## Find connected components count in a graph"
   ]
  },
  {
   "cell_type": "code",
   "execution_count": 1,
   "id": "9e46f714-605a-4eb8-ae55-2c93d5ea20f5",
   "metadata": {},
   "outputs": [],
   "source": [
    "from collections import deque\n",
    "def bfsList(AList, v):\n",
    "    visited = {}\n",
    "    for i in AList.keys():\n",
    "        visited[i] = False\n",
    "    q = deque()\n",
    "    q.append(v)\n",
    "    visited[v] = True\n",
    "    while len(q) != 0:\n",
    "        j = q.popleft()\n",
    "        for k in AList[j]:\n",
    "            if not visited[k]:\n",
    "                visited[k] = True\n",
    "                q.append(k)\n",
    "    return visited"
   ]
  },
  {
   "cell_type": "code",
   "execution_count": 2,
   "id": "78ea4bfd-47c5-4b3e-a374-35d834b9a4f2",
   "metadata": {},
   "outputs": [],
   "source": [
    "def ConnectedComponents(Alist):\n",
    "    component = {}\n",
    "    for i in Alist.keys():\n",
    "        component[i] = -1\n",
    "    compid, seen = 0, 0\n",
    "    while seen < len(Alist.keys()):\n",
    "        startv = [i for i in Alist.keys() if component[i] == -1][0]\n",
    "        visited = bfsList(Alist, startv)\n",
    "        for i in visited.keys():\n",
    "            if visited[i]:\n",
    "                component[i] = compid\n",
    "                seen+=1\n",
    "        compid += 1\n",
    "    return component"
   ]
  },
  {
   "cell_type": "code",
   "execution_count": 3,
   "id": "721525ff-4d2a-48c1-81bf-5b645c803726",
   "metadata": {},
   "outputs": [
    {
     "name": "stdin",
     "output_type": "stream",
     "text": [
      " 1 2 3 4 5 6 7 8 9\n",
      " 6\n",
      " 1 3\n",
      " 3 4\n",
      " 3 7\n",
      " 5 6\n",
      " 5 8\n",
      " 6 8\n"
     ]
    }
   ],
   "source": [
    "def takeGraphInput():\n",
    "    vertices = input().split(' ')\n",
    "    rows = len(vertices)\n",
    "    AList = {}\n",
    "    AMat = {}\n",
    "    for i in vertices:\n",
    "        AList[i] = []\n",
    "        AMat[i] = {j:0 for j in vertices}\n",
    "    n = int(input())\n",
    "    for i in range(n):\n",
    "        a, b = input().split(' ')\n",
    "        AList[a].append(b)\n",
    "        AList[b].append(a)\n",
    "        AMat[a][b] = 1\n",
    "        AMat[b][a] = 1\n",
    "    return AList, AMat\n",
    "\n",
    "AdjList, AdjMat = takeGraphInput()"
   ]
  },
  {
   "cell_type": "code",
   "execution_count": 5,
   "id": "5f17838b-f98a-426a-94b1-b8969462396d",
   "metadata": {},
   "outputs": [
    {
     "name": "stdout",
     "output_type": "stream",
     "text": [
      "4\n"
     ]
    }
   ],
   "source": [
    "print(len(set(ConnectedComponents(AdjList).values())))"
   ]
  }
 ],
 "metadata": {
  "kernelspec": {
   "display_name": "Python 3 (ipykernel)",
   "language": "python",
   "name": "python3"
  },
  "language_info": {
   "codemirror_mode": {
    "name": "ipython",
    "version": 3
   },
   "file_extension": ".py",
   "mimetype": "text/x-python",
   "name": "python",
   "nbconvert_exporter": "python",
   "pygments_lexer": "ipython3",
   "version": "3.10.2"
  }
 },
 "nbformat": 4,
 "nbformat_minor": 5
}
