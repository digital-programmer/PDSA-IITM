{
 "cells": [
  {
   "cell_type": "markdown",
   "id": "dec5b5fd-3e14-4790-a75f-cacba7ff220d",
   "metadata": {},
   "source": [
    "# Graphs"
   ]
  },
  {
   "cell_type": "code",
   "execution_count": 1,
   "id": "7c90262b-601e-4375-b51d-7ed21ebdcf5d",
   "metadata": {},
   "outputs": [],
   "source": [
    "import numpy as np"
   ]
  },
  {
   "cell_type": "code",
   "execution_count": 2,
   "id": "b84b60dd-4add-4b44-b20c-e4e685c52171",
   "metadata": {},
   "outputs": [],
   "source": [
    "DG = np.zeros(shape=(10,10))\n",
    "UG = np.zeros(shape=(10,10))"
   ]
  },
  {
   "cell_type": "code",
   "execution_count": 3,
   "id": "3d7a09f9-c331-41a5-9497-5a07ec8ea0b9",
   "metadata": {},
   "outputs": [],
   "source": [
    "edges = [(0,2),(0,3),(0,4),(1,2),(1,7),(2,5),(3,5),(3,7),(4,7),(5,6),(6,7)]"
   ]
  },
  {
   "cell_type": "markdown",
   "id": "13ee82c9-f30d-4913-94a1-5d7e23ed4549",
   "metadata": {},
   "source": [
    "## Adjacency Matrix"
   ]
  },
  {
   "cell_type": "code",
   "execution_count": 4,
   "id": "3a153da5-8961-4a93-9c5b-712268e72306",
   "metadata": {},
   "outputs": [],
   "source": [
    "for i,j in edges:\n",
    "    DG[i,j] = 1\n",
    "    UG[i,j] = 1\n",
    "    UG[j,i] = 1"
   ]
  },
  {
   "cell_type": "code",
   "execution_count": 5,
   "id": "c7644f09-3a18-47b7-956a-3779d254bd0b",
   "metadata": {},
   "outputs": [
    {
     "data": {
      "text/plain": [
       "[5, 7]"
      ]
     },
     "execution_count": 5,
     "metadata": {},
     "output_type": "execute_result"
    }
   ],
   "source": [
    "def neighbours(AMat, i):\n",
    "    nbrs = []\n",
    "    rows, cols = AMat.shape\n",
    "    for j in range(cols):\n",
    "        if AMat[i,j] == 1:\n",
    "            nbrs.append(j)\n",
    "    return nbrs\n",
    "neighbours(UG, 6)"
   ]
  },
  {
   "cell_type": "markdown",
   "id": "bec6772e-7d1a-42d8-aa73-98f2f8a78bdd",
   "metadata": {},
   "source": [
    "## Degree\n",
    "\n",
    "For UG:\n",
    "\n",
    "- Number of edges incident on a vertex\n",
    "\n",
    "For DG:\n",
    "\n",
    "- Indegree : Number of edges incident\n",
    "- Outdegree: Number of outgoing edges"
   ]
  },
  {
   "cell_type": "code",
   "execution_count": 6,
   "id": "df59ddd6-dddc-4f03-8abc-60dd1b8cf23b",
   "metadata": {},
   "outputs": [
    {
     "data": {
      "text/plain": [
       "1"
      ]
     },
     "execution_count": 6,
     "metadata": {},
     "output_type": "execute_result"
    }
   ],
   "source": [
    "# this works same as outdegree for DG\n",
    "def degree(AMat, i):\n",
    "    return len(neighbours(AMat, i))\n",
    "degree(DG, 6)"
   ]
  },
  {
   "cell_type": "code",
   "execution_count": 7,
   "id": "5bddff02-a028-4b8a-bb46-d9d5786bfe8a",
   "metadata": {},
   "outputs": [
    {
     "data": {
      "text/plain": [
       "1"
      ]
     },
     "execution_count": 7,
     "metadata": {},
     "output_type": "execute_result"
    }
   ],
   "source": [
    "def indegree(AMat, i):\n",
    "    rows, cols = AMat.shape\n",
    "    incomingNbrs = []\n",
    "    for j in range(rows):\n",
    "        if AMat[j,i] == 1:\n",
    "            incomingNbrs.append(j)\n",
    "    return len(incomingNbrs)\n",
    "indegree(DG, 6)"
   ]
  },
  {
   "cell_type": "markdown",
   "id": "4c057afd-8b72-4229-9e28-62d11e30fed5",
   "metadata": {},
   "source": [
    "## Adjacency List"
   ]
  },
  {
   "cell_type": "code",
   "execution_count": 8,
   "id": "d78d0fab-005f-4b08-9ce3-111f0b1abfce",
   "metadata": {},
   "outputs": [],
   "source": [
    "from collections import defaultdict"
   ]
  },
  {
   "cell_type": "code",
   "execution_count": 9,
   "id": "b8fac62b-1b2e-48b5-a0ff-58ea4920f0f4",
   "metadata": {},
   "outputs": [
    {
     "data": {
      "text/plain": [
       "{0: [2, 3, 4], 1: [2, 7], 2: [5], 3: [5, 7], 4: [7], 5: [6], 6: [7], 7: []}"
      ]
     },
     "execution_count": 9,
     "metadata": {},
     "output_type": "execute_result"
    }
   ],
   "source": [
    "size = 8\n",
    "AdjList = {}\n",
    "for i in range(size):\n",
    "    AdjList[i] = []\n",
    "    \n",
    "for i,j in edges:\n",
    "    AdjList[i].append(j)\n",
    "AdjList"
   ]
  },
  {
   "cell_type": "markdown",
   "id": "04cb574f-39c5-4641-ac28-31a79cde8fa8",
   "metadata": {},
   "source": [
    "## Queue"
   ]
  },
  {
   "cell_type": "code",
   "execution_count": 10,
   "id": "e2669feb-8f46-43ac-8238-465bbeb28c0e",
   "metadata": {},
   "outputs": [],
   "source": [
    "class Queue:\n",
    "    def __init__(self):\n",
    "        self.queue = []\n",
    "        \n",
    "    def addq(self, value):\n",
    "        self.queue.append(value)\n",
    "        \n",
    "    def delq(self):\n",
    "        v = None\n",
    "        if not self.isempty():\n",
    "            v = self.queue[0]\n",
    "            self.queue = self.queue[1:]\n",
    "        return v\n",
    "    \n",
    "    def isempty(self):\n",
    "        return len(self.queue) == 0\n",
    "        \n",
    "    def __str__(self):\n",
    "        return str(self.queue)"
   ]
  },
  {
   "cell_type": "markdown",
   "id": "d92fc6c3-de86-43ff-9df2-f9be0bd66aed",
   "metadata": {},
   "source": [
    "## Breadth First Search"
   ]
  },
  {
   "cell_type": "code",
   "execution_count": 11,
   "id": "80562f6b-ca45-485e-b73d-0bc9f739f59d",
   "metadata": {},
   "outputs": [
    {
     "data": {
      "text/plain": [
       "{0: True,\n",
       " 1: True,\n",
       " 2: True,\n",
       " 3: True,\n",
       " 4: True,\n",
       " 5: True,\n",
       " 6: True,\n",
       " 7: True,\n",
       " 8: False,\n",
       " 9: False}"
      ]
     },
     "execution_count": 11,
     "metadata": {},
     "output_type": "execute_result"
    }
   ],
   "source": [
    "def BFSMatrix(AMat, v):\n",
    "    rows, cols = AMat.shape\n",
    "    visited = {}\n",
    "    for i in range(rows):\n",
    "        visited[i] = False\n",
    "    q = Queue()\n",
    "    q.addq(v)\n",
    "    visited[v] = True\n",
    "    while not q.isempty():\n",
    "        j = q.delq()\n",
    "        for k in neighbours(AMat, j):\n",
    "            if not visited[k]:\n",
    "                visited[k] = True\n",
    "                q.addq(k)\n",
    "    return visited\n",
    "\n",
    "BFSMatrix(UG, 7)"
   ]
  },
  {
   "cell_type": "code",
   "execution_count": 12,
   "id": "e5364412-c2b4-4f91-b509-3729eada5069",
   "metadata": {},
   "outputs": [
    {
     "data": {
      "text/plain": [
       "{0: False, 1: False, 2: False, 3: False, 4: False, 5: False, 6: False, 7: True}"
      ]
     },
     "execution_count": 12,
     "metadata": {},
     "output_type": "execute_result"
    }
   ],
   "source": [
    "def BFSListPath(AList, v):\n",
    "    visited, parent = {}, {}\n",
    "    for i in AList.keys():\n",
    "        visited[i] = False\n",
    "        parent[i] = -1\n",
    "    visited[v] = True\n",
    "    q = Queue()\n",
    "    q.addq(v)\n",
    "    \n",
    "    while not q.isempty():\n",
    "        j = q.delq()\n",
    "        for k in AList[j]:\n",
    "            if not visited[k]:\n",
    "                parent[k] = j\n",
    "                visited[j] = True\n",
    "                q.addq(k)\n",
    "    return (visited)\n",
    "\n",
    "BFSListPath(AdjList, 7)"
   ]
  },
  {
   "cell_type": "code",
   "execution_count": 30,
   "id": "d15b2414-dd40-4925-afea-8429c3409a15",
   "metadata": {},
   "outputs": [
    {
     "data": {
      "text/plain": [
       "{0: -1, 1: -1, 2: -1, 3: -1, 4: -1, 5: -1, 6: -1, 7: 0}"
      ]
     },
     "execution_count": 30,
     "metadata": {},
     "output_type": "execute_result"
    }
   ],
   "source": [
    "def BFSListPathLevel(AList, v):\n",
    "    level, parent = {}, {}\n",
    "    for i in AList.keys():\n",
    "        level[i] = -1\n",
    "        parent[i] = -1\n",
    "    level[v] = 0\n",
    "    q = Queue()\n",
    "    q.addq(v)\n",
    "    \n",
    "    while not q.isempty():\n",
    "        j = q.delq()\n",
    "        for k in AList[j]:\n",
    "            if level[k] == -1:\n",
    "                level[k] = level[j] + 1\n",
    "                parent[k] = j\n",
    "                q.addq(k)\n",
    "    return (level)\n",
    "\n",
    "BFSListPathLevel(AdjList, 7)"
   ]
  },
  {
   "cell_type": "markdown",
   "id": "02485848-63ab-4774-8377-9dc3263caf20",
   "metadata": {
    "tags": []
   },
   "source": [
    "## Depth First Search"
   ]
  },
  {
   "cell_type": "markdown",
   "id": "a8124399-c1f8-4c33-b133-2edbacb7f703",
   "metadata": {},
   "source": [
    "### For Matrix"
   ]
  },
  {
   "cell_type": "code",
   "execution_count": 14,
   "id": "b445010b-34c3-41cc-868d-2f5bad408c07",
   "metadata": {},
   "outputs": [],
   "source": [
    "def DFSMatrixInit(AMat):\n",
    "    rows, cols = AMat.shape\n",
    "    visited, parent = {}, {}\n",
    "    for i in range(rows):\n",
    "        visited[i] = False\n",
    "        parent[i] = -1\n",
    "    return (visited,parent)\n",
    "\n",
    "def DFSMatrix(AMat, visited, parent, v):\n",
    "    visited[v] = True\n",
    "    for k in neighbours(AMat, v):\n",
    "        if not visited[k]:\n",
    "            parent[k] = v\n",
    "            visited, parent = DFSMatrix(AMat, visited, parent, k)\n",
    "    return (visited, parent)\n",
    "\n",
    "# visitedDict, parentDict = DFSMatrixInit(UG)\n",
    "# DFSMatrix(UG, visitedDict, parentDict, 7)"
   ]
  },
  {
   "cell_type": "code",
   "execution_count": 15,
   "id": "dc72c455-c673-4512-9ffc-f8bc123f5ba7",
   "metadata": {},
   "outputs": [],
   "source": [
    "visitedGlobal, parentGlobal = {}, {}\n",
    "def DFSMatrixInitGlobal(AMat):\n",
    "    rows, cols = AMat.shape\n",
    "    for i in range(rows):\n",
    "        visitedGlobal[i] = False\n",
    "        parentGlobal[i] = -1\n",
    "    return\n",
    "\n",
    "def DFSMatrixGlobal(AMat, v):\n",
    "    visitedGlobal[v] = True\n",
    "    for k in neighbours(AMat, v):\n",
    "        if not visitedGlobal[k]:\n",
    "            parentGlobal[k] = v\n",
    "            DFSMatrixGlobal(AMat, k)\n",
    "    return\n",
    "\n",
    "# DFSMatrixInitGlobal(UG)\n",
    "# DFSMatrixGlobal(UG, 7)\n",
    "# print(visitedGlobal)\n",
    "# print(parentGlobal)"
   ]
  },
  {
   "cell_type": "markdown",
   "id": "e8370ef0-497b-404b-8bb0-2e57947c9ebe",
   "metadata": {},
   "source": [
    "### For List"
   ]
  },
  {
   "cell_type": "code",
   "execution_count": 16,
   "id": "500b0b99-d458-4be9-abdf-d03b9308b130",
   "metadata": {},
   "outputs": [],
   "source": [
    "def DFSInitList(AList):\n",
    "    visited,parent = {}, {}\n",
    "    for i in AList.keys():\n",
    "        visited[i] = False\n",
    "        parent[i] = -1\n",
    "    return visited,parent"
   ]
  },
  {
   "cell_type": "code",
   "execution_count": 17,
   "id": "a37c1bea-bdb5-453b-a095-3b1693ed2989",
   "metadata": {},
   "outputs": [],
   "source": [
    "def DFSList(AList,visited, parent, v):\n",
    "    visited[v] = True\n",
    "    for k in AList[v]:\n",
    "        if not visited[k]:\n",
    "            parent[k] = v\n",
    "            visited,parent = DFSList(AList,visited, parent, k)\n",
    "    return visited,parent\n",
    "\n",
    "# visitedDict, parentDict = DFSInitList(AdjList)\n",
    "# DFSList(AdjList, visitedDict, parentDict, 7)"
   ]
  },
  {
   "cell_type": "code",
   "execution_count": 18,
   "id": "e59a98b6-4f3b-4d8b-84f6-9604cc9989f9",
   "metadata": {},
   "outputs": [],
   "source": [
    "visitedGlobal, parentGlobal = {}, {}\n",
    "def DFSListInitGlobal(AList):\n",
    "    for i in AList.keys():\n",
    "        visitedGlobal[i] = False\n",
    "        parentGlobal[i] = -1\n",
    "    return\n",
    "\n",
    "def DFSListGlobal(AList, v):\n",
    "    visitedGlobal[v] = True\n",
    "    for k in AList[v]:\n",
    "        if not visitedGlobal[k]:\n",
    "            parentGlobal[k] = v\n",
    "            DFSListGlobal(AList, k)\n",
    "    return\n",
    "\n",
    "# DFSListInitGlobal(AdjList)\n",
    "# DFSListGlobal(AdjList, 7)\n",
    "# print(visitedGlobal)\n",
    "# print(parentGlobal)"
   ]
  },
  {
   "cell_type": "markdown",
   "id": "3e478748-9317-4720-be81-effb61685795",
   "metadata": {},
   "source": [
    "## Connected Components"
   ]
  },
  {
   "cell_type": "code",
   "execution_count": 19,
   "id": "33dab3d7-950e-43b8-9d55-751989565e5c",
   "metadata": {},
   "outputs": [
    {
     "data": {
      "text/plain": [
       "3"
      ]
     },
     "execution_count": 19,
     "metadata": {},
     "output_type": "execute_result"
    }
   ],
   "source": [
    "def Components(AList, v):\n",
    "    component = {}\n",
    "    for i in AList.keys():\n",
    "        component[i] = -1\n",
    "    compid, seen = 0,0\n",
    "    while seen <= len(AList.keys()):\n",
    "        startv = min([i for i in AList.keys() if component[i] == -1])\n",
    "        visited = BFSListPath(AList, startv)\n",
    "        for i in visited.keys():\n",
    "            if visited[i]:\n",
    "                seen += 1\n",
    "                component[i] = compid\n",
    "        compid += 1\n",
    "    return component\n",
    "len(set(Components(AdjList, 0).values()))"
   ]
  },
  {
   "cell_type": "markdown",
   "id": "fae3b806-72df-4d5a-b7f3-289ae323e069",
   "metadata": {},
   "source": [
    "## Detect Cycle"
   ]
  },
  {
   "cell_type": "markdown",
   "id": "037bf935-8123-4831-944e-06df56b0b38e",
   "metadata": {},
   "source": [
    "### DFS Tree Pre and Post"
   ]
  },
  {
   "cell_type": "code",
   "execution_count": 20,
   "id": "0c49ee63-a3fc-4d30-b1d4-c3ebe132f03f",
   "metadata": {},
   "outputs": [
    {
     "name": "stdout",
     "output_type": "stream",
     "text": [
      "{0: -1, 1: -1, 2: -1, 3: -1, 4: -1, 5: -1, 6: -1, 7: 0}\n",
      "{0: -1, 1: -1, 2: -1, 3: -1, 4: -1, 5: -1, 6: -1, 7: 1}\n"
     ]
    }
   ],
   "source": [
    "visited,pre,post = {}, {}, {}\n",
    "\n",
    "def DFSInitPrePost(AList):\n",
    "    for i in AList.keys():\n",
    "        visited[i] = False\n",
    "        pre[i], post[i] = -1, -1\n",
    "    return\n",
    "\n",
    "def DFSPrePost(AList, v, count):\n",
    "    visited[v] = True\n",
    "    pre[v] = count\n",
    "    count += 1\n",
    "    for k in AList[v]:\n",
    "        if not visited[k]:\n",
    "            count = DFSPrePost(AList, k, count)\n",
    "    post[v] = count\n",
    "    count += 1\n",
    "    return count\n",
    "\n",
    "DFSInitPrePost(AdjList)\n",
    "DFSPrePost(AdjList, 7, 0)\n",
    "print(pre)\n",
    "print(post)"
   ]
  },
  {
   "cell_type": "markdown",
   "id": "8cef8349-1ff6-4fce-8084-4e8858c1b0dd",
   "metadata": {},
   "source": [
    "## Topological Sort"
   ]
  },
  {
   "cell_type": "code",
   "execution_count": 26,
   "id": "21724982-511d-46aa-a626-0d651650c732",
   "metadata": {
    "tags": []
   },
   "outputs": [
    {
     "data": {
      "text/plain": [
       "[0, 1, 2, 3, 4, 5, 6, 7, 8, 9]"
      ]
     },
     "execution_count": 26,
     "metadata": {},
     "output_type": "execute_result"
    }
   ],
   "source": [
    "def toposort(AMat):\n",
    "    rows,cols = AMat.shape\n",
    "    indegree = {}\n",
    "    toposortlist = []\n",
    "    for c in range(cols):\n",
    "        indegree[c] = 0\n",
    "        for r in range(rows):\n",
    "            if AMat[r, c] == 1:\n",
    "                indegree[c] += 1\n",
    "    for i in range(rows):\n",
    "        j = min([k for k in range(cols) if indegree[k] == 0])\n",
    "        toposortlist.append(j)\n",
    "        indegree[j] = indegree[j] - 1\n",
    "        for k in range(cols):\n",
    "            if AMat[j,k] == 1:\n",
    "                indegree[k]-=1\n",
    "    return toposortlist\n",
    "toposort(DG)"
   ]
  },
  {
   "cell_type": "code",
   "execution_count": 28,
   "id": "e85ed16f-afbc-4fae-8938-de248442f42b",
   "metadata": {},
   "outputs": [
    {
     "data": {
      "text/plain": [
       "[0, 1, 3, 4, 2, 5, 6, 7]"
      ]
     },
     "execution_count": 28,
     "metadata": {},
     "output_type": "execute_result"
    }
   ],
   "source": [
    "from collections import deque\n",
    "def toposortList(AList):\n",
    "    indegree,toposortlist = {}, []\n",
    "    for u in AList.keys():\n",
    "        indegree[u] = 0\n",
    "    for u in AList.keys():\n",
    "        for v in AList[u]:\n",
    "            indegree[v] += 1\n",
    "    zerodegreeq = deque()\n",
    "    for u in AList.keys():\n",
    "        if indegree[u] == 0:\n",
    "            zerodegreeq.append(u)\n",
    "    while len(zerodegreeq) != 0:\n",
    "        j = zerodegreeq.popleft()\n",
    "        toposortlist.append(j)\n",
    "        indegree[j]-=1\n",
    "        for k in AList[j]:\n",
    "            indegree[k] -= 1\n",
    "            if indegree[k] == 0:\n",
    "                zerodegreeq.append(k)\n",
    "    return toposortlist\n",
    "toposortList(AdjList)"
   ]
  },
  {
   "cell_type": "markdown",
   "id": "f3adbc04-1f71-44b0-83e7-f8c1d5272659",
   "metadata": {},
   "source": [
    "## Longest Path in DAG"
   ]
  },
  {
   "cell_type": "code",
   "execution_count": 29,
   "id": "edd937b8-3f49-4e12-973d-33d574052c64",
   "metadata": {},
   "outputs": [
    {
     "data": {
      "text/plain": [
       "{0: 0, 1: 0, 2: 1, 3: 1, 4: 1, 5: 2, 6: 3, 7: 4}"
      ]
     },
     "execution_count": 29,
     "metadata": {},
     "output_type": "execute_result"
    }
   ],
   "source": [
    "def longestPathList(AList):\n",
    "    indegree, lpath = {} , {}\n",
    "    for u in AList.keys():\n",
    "        indegree[u], lpath[u] = 0, 0\n",
    "    for u in AList.keys():\n",
    "        for v in AList[u]:\n",
    "            indegree[v] += 1\n",
    "    zerodegreeq = deque()\n",
    "    for u in AList.keys():\n",
    "        if indegree[u] == 0:\n",
    "            zerodegreeq.append(u)\n",
    "    while len(zerodegreeq) != 0:\n",
    "        j = zerodegreeq.popleft()\n",
    "        indegree[j]-=1\n",
    "        for k in AList[j]:\n",
    "            indegree[k]-=1\n",
    "            lpath[k] = max(lpath[k], lpath[j]+1)\n",
    "            if indegree[k] == 0:\n",
    "                zerodegreeq.append(k)\n",
    "    return lpath\n",
    "longestPathList(AdjList)"
   ]
  },
  {
   "cell_type": "code",
   "execution_count": null,
   "id": "2d036a04-778c-429f-8ff0-24d930d6c178",
   "metadata": {},
   "outputs": [],
   "source": []
  }
 ],
 "metadata": {
  "kernelspec": {
   "display_name": "Python 3 (ipykernel)",
   "language": "python",
   "name": "python3"
  },
  "language_info": {
   "codemirror_mode": {
    "name": "ipython",
    "version": 3
   },
   "file_extension": ".py",
   "mimetype": "text/x-python",
   "name": "python",
   "nbconvert_exporter": "python",
   "pygments_lexer": "ipython3",
   "version": "3.10.2"
  }
 },
 "nbformat": 4,
 "nbformat_minor": 5
}
