{
 "cells": [
  {
   "cell_type": "code",
   "execution_count": 1,
   "id": "a63670b1-7559-4fe2-a892-122532cb6562",
   "metadata": {},
   "outputs": [],
   "source": [
    "def removeDuplicates(head):\n",
    "    temp = head\n",
    "    while temp.next is not None:\n",
    "        item = temp.data\n",
    "        nextElement = temp.next\n",
    "        while nextElement is not None:\n",
    "            if nextElement.data == item:\n",
    "                nextElement = nextElement.next\n",
    "            else:\n",
    "                break\n",
    "        temp.next = nextElement\n",
    "        if temp.next is not None:\n",
    "            temp = temp.next\n",
    "    return head"
   ]
  },
  {
   "cell_type": "code",
   "execution_count": 2,
   "id": "135a80d2-8949-4653-972d-97e8ca4b4651",
   "metadata": {},
   "outputs": [],
   "source": [
    "class Node:\n",
    "    def __init__(self, data):\n",
    "        self.data = data\n",
    "        self.next = None\n",
    "\n",
    "class LinkedList:\n",
    "    def __init__(self):\n",
    "        self.head = None\n",
    "        self.tail = None\n",
    "    \n",
    "    def insert(self, k):\n",
    "        if self.head is None:\n",
    "            self.head = Node(k)\n",
    "            self.tail = self.head\n",
    "        else:\n",
    "            newNode = Node(k)\n",
    "            self.tail.next = newNode\n",
    "            self.tail = newNode\n",
    "    \n",
    "    def __str__(self):\n",
    "        if self.head is None:\n",
    "            return 'Empty List'\n",
    "        else:\n",
    "            temp = self.head\n",
    "            res = ''\n",
    "            while temp is not None:\n",
    "                res += str(temp.data) + ' '\n",
    "                temp = temp.next\n",
    "            return res"
   ]
  },
  {
   "cell_type": "code",
   "execution_count": 3,
   "id": "54048fed-4703-4736-847d-ea637da223e0",
   "metadata": {},
   "outputs": [],
   "source": [
    "def prepareLinkedList(n ,arr):\n",
    "    l = LinkedList()\n",
    "    for num in arr:\n",
    "        l.insert(num)\n",
    "    return l"
   ]
  },
  {
   "cell_type": "code",
   "execution_count": 5,
   "id": "8c54ce7b-af23-4fd6-9939-d720d0f18152",
   "metadata": {},
   "outputs": [],
   "source": [
    "def sort(head):\n",
    "    pass"
   ]
  },
  {
   "cell_type": "code",
   "execution_count": 4,
   "id": "0faadd44-e52f-4d37-aaba-825572509837",
   "metadata": {},
   "outputs": [],
   "source": [
    "t = int(input())\n",
    "for i in range(t):\n",
    "    n = int(input())\n",
    "    arr = list(map(int, input().split(' ')))\n",
    "    l = prepareLinkedList(n, arr)\n",
    "    # removeDuplicates(l.head)\n",
    "    sort(l.head)\n",
    "    print(l)"
   ]
  },
  {
   "cell_type": "code",
   "execution_count": null,
   "id": "83e673b1-f492-4406-80b6-8d3131893698",
   "metadata": {},
   "outputs": [],
   "source": []
  }
 ],
 "metadata": {
  "kernelspec": {
   "display_name": "Python 3 (ipykernel)",
   "language": "python",
   "name": "python3"
  },
  "language_info": {
   "codemirror_mode": {
    "name": "ipython",
    "version": 3
   },
   "file_extension": ".py",
   "mimetype": "text/x-python",
   "name": "python",
   "nbconvert_exporter": "python",
   "pygments_lexer": "ipython3",
   "version": "3.10.2"
  }
 },
 "nbformat": 4,
 "nbformat_minor": 5
}
