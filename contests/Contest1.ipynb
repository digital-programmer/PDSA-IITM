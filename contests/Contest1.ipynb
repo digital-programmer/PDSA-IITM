{
 "cells": [
  {
   "cell_type": "markdown",
   "id": "a5c79f6a-28c1-4d0e-9b0d-06b9ddb86adb",
   "metadata": {},
   "source": [
    "# Template for taking input from test cases\n",
    " <code>\n",
    "t = int(input())\n",
    "for i in range(t):\n",
    "     n = int(input())\n",
    "     arr = list(map(int, input().split(' ')))\n",
    "     print(func(n, arr))\n",
    "</code>"
   ]
  },
  {
   "cell_type": "markdown",
   "id": "ceff41b3-d6a3-4167-8b1d-a8cd3d536f9e",
   "metadata": {
    "tags": []
   },
   "source": [
    "## Chef Jumping (OJUMPS)"
   ]
  },
  {
   "cell_type": "code",
   "execution_count": 1,
   "id": "919517c2-6fad-49c1-a7a1-1c5231574b36",
   "metadata": {},
   "outputs": [],
   "source": [
    "# cook your dish here\n",
    "# k = int(input())\n",
    "def isJumpPossible(target):\n",
    "    arr = [1, 2, 3]\n",
    "    next_step_index = 0\n",
    "    pos = 0\n",
    "    is_possible = False\n",
    "    while pos <= target:\n",
    "        if pos == target:\n",
    "            is_possible = True\n",
    "            break\n",
    "        pos += arr[next_step_index]\n",
    "        next_step_index = (next_step_index + 1) % 3\n",
    "    if is_possible:\n",
    "        return 'yes'\n",
    "    return 'no'\n",
    "\n",
    "def isJumpPossibleV2(target):\n",
    "    arr = ['yes', 'yes', 'no', 'yes', 'no', 'no']\n",
    "    i = target % 6\n",
    "    return arr[i]"
   ]
  },
  {
   "cell_type": "markdown",
   "id": "aeecc69a-6bd4-4075-8e25-6354a5eccbc0",
   "metadata": {},
   "source": [
    "## Uncle Johny (JOHNY)"
   ]
  },
  {
   "cell_type": "code",
   "execution_count": 2,
   "id": "cf2087d1-7aff-482b-948d-7e4e65602c79",
   "metadata": {},
   "outputs": [],
   "source": [
    "def binarySearch(arr, k):\n",
    "    start = 0\n",
    "    end = len(arr)\n",
    "    index = -1\n",
    "    while start <= end:\n",
    "        mid = (start + end) // 2\n",
    "        if arr[mid] == k:\n",
    "            index = mid\n",
    "            break\n",
    "        elif arr[mid] > k:\n",
    "            end = mid - 1\n",
    "        else:\n",
    "            start = mid + 1\n",
    "    return index"
   ]
  },
  {
   "cell_type": "code",
   "execution_count": 3,
   "id": "c9e66305-6d69-4600-8c75-edd878b173d3",
   "metadata": {},
   "outputs": [],
   "source": [
    "def findSongFromPlaylist(n, arr, k):\n",
    "    arr.sort()\n",
    "    idx = binarySearch(arr, k)\n",
    "    return idx + 1"
   ]
  },
  {
   "cell_type": "markdown",
   "id": "c46bee0e-d57c-4dec-b316-95a36f428142",
   "metadata": {},
   "source": [
    "## A - Books (BIT2A)"
   ]
  },
  {
   "cell_type": "code",
   "execution_count": 4,
   "id": "d3a2d64f-b158-4c67-bed8-539fe49c81b5",
   "metadata": {
    "tags": []
   },
   "outputs": [],
   "source": [
    "def findStrictGreaterCount(n, arr):\n",
    "    res = [0 for i in range(n)]\n",
    "    count = 1\n",
    "    prevCount = 0\n",
    "    i = n - 2\n",
    "    currentMin = arr[-1]\n",
    "    while i >= 0:\n",
    "        if arr[i] < currentMin:\n",
    "            res[i] = count + prevCount\n",
    "            prevCount = res[i]\n",
    "            count = 1\n",
    "            currentMin = arr[i]\n",
    "        else:\n",
    "            res[i] = prevCount\n",
    "            count+=1\n",
    "        i -= 1\n",
    "    return res"
   ]
  },
  {
   "cell_type": "markdown",
   "id": "13d4d2bb-7913-4dd7-9d1a-8753a33abaca",
   "metadata": {},
   "source": [
    "## Chef and Eid (EID)"
   ]
  },
  {
   "cell_type": "code",
   "execution_count": 5,
   "id": "0908e9c6-fd7e-424b-b323-f1f18f780d42",
   "metadata": {},
   "outputs": [],
   "source": [
    "def findMinDiff(n,arr):\n",
    "    arr.sort()\n",
    "    if n == 2:\n",
    "        return arr[1] - arr[0]\n",
    "    minDiff = float('inf')\n",
    "    for i in range(1,n):\n",
    "        if arr[i] - arr[i-1] < minDiff:\n",
    "            minDiff = arr[i] - arr[i - 1]\n",
    "    return minDiff"
   ]
  },
  {
   "cell_type": "markdown",
   "id": "070fcdbc-dedc-4e19-8301-8c156ad85711",
   "metadata": {
    "tags": []
   },
   "source": [
    "## Average Flex (AVGFLEX)"
   ]
  },
  {
   "cell_type": "code",
   "execution_count": 6,
   "id": "3ad5cd0e-7246-41ee-b647-d4da985ac06a",
   "metadata": {},
   "outputs": [],
   "source": [
    "def countRepeatingElements(n, arr):\n",
    "    res = []\n",
    "    i = 0\n",
    "    count = 1\n",
    "    while i < n - 1:\n",
    "        if (arr[i] == arr[i + 1]):\n",
    "            count+=1\n",
    "        else:\n",
    "            res.append(count)\n",
    "            count = 1\n",
    "        i += 1\n",
    "    res.append(count)\n",
    "    return res"
   ]
  },
  {
   "cell_type": "code",
   "execution_count": 7,
   "id": "cc9a6ae3-6a13-43b5-a74d-9609e6528af1",
   "metadata": {},
   "outputs": [],
   "source": [
    "def avgFlex(n, arr):\n",
    "    arr.sort()\n",
    "    i = 0\n",
    "    countArr = countRepeatingElements(n, arr)\n",
    "    minCountTillCurr = 0\n",
    "    total = sum(countArr)\n",
    "    count = 0\n",
    "    if len(countArr) == 1:\n",
    "        return countArr[0]\n",
    "    while i < len(countArr):\n",
    "        minCountTillCurr += countArr[i]\n",
    "        if minCountTillCurr > total - minCountTillCurr:\n",
    "            count += countArr[i]\n",
    "        i += 1\n",
    "    return count"
   ]
  },
  {
   "cell_type": "markdown",
   "id": "7bd192a9-9b0c-4c4b-b7ad-abcdae87def8",
   "metadata": {},
   "source": [
    "## Minion Chef and Bananas (MINEAT)"
   ]
  },
  {
   "cell_type": "code",
   "execution_count": 14,
   "id": "1ad513b1-fb4c-4401-a39d-3546f6c63d2c",
   "metadata": {},
   "outputs": [
    {
     "name": "stdin",
     "output_type": "stream",
     "text": [
      " 1\n",
      " 3 4\n",
      " 1 2 3\n"
     ]
    },
    {
     "name": "stdout",
     "output_type": "stream",
     "text": [
      "2\n"
     ]
    }
   ],
   "source": [
    "t = int(input())\n",
    "for i in range(t):\n",
    "    n, h = list(map(int, input().split(' ')))\n",
    "    arr = list(map(int, input().split(' ')))\n",
    "    print(findMinBanana(n, arr, h))"
   ]
  },
  {
   "cell_type": "code",
   "execution_count": null,
   "id": "c01c5201-3306-4447-a740-0b35c7b3e2ac",
   "metadata": {},
   "outputs": [],
   "source": [
    "import math\n",
    "def findMinBanana(n, arr, h):\n",
    "    arr.sort(reverse=True)\n",
    "    i = 0\n",
    "    finalRate = arr[0]\n",
    "    while i < n:\n",
    "        count = 0\n",
    "        currRate = arr[i]\n",
    "        for num in arr:\n",
    "            if num > currRate:\n",
    "                count += math.ceil(num / currRate)\n",
    "            else:\n",
    "                count+=1\n",
    "        if count == h:\n",
    "            finalRate = currRate\n",
    "        i += 1\n",
    "    return finalRate\n",
    "\n",
    "def minions(arr1, mid1, h1):\n",
    "\n",
    "    csum = 0\n",
    "    for i in arr1:\n",
    "        csum += ceil(i/mid1)\n",
    "\n",
    "        if csum > h1:\n",
    "            return False\n",
    "\n",
    "    return True\n",
    "\n",
    "t = int(input())\n",
    "while t > 0:\n",
    "\n",
    "    n, h = map(int, input().split())\n",
    "    arr = list(map(int, input().split()))\n",
    "\n",
    "    i = 1\n",
    "    j = max(arr)\n",
    "    mini = j\n",
    "    while i <= j:\n",
    "        mid = (i+j)//2\n",
    "       # print(m)\n",
    "        if minions(arr, mid, h):\n",
    "            if mid < mini:\n",
    "                mini = mid\n",
    "                # print(min_k)\n",
    "                j = mid-1\n",
    "            else:\n",
    "                break\n",
    "        else:\n",
    "            i = mid+1\n",
    "\n",
    "    print(mini)\n",
    "    t = t-1"
   ]
  },
  {
   "cell_type": "code",
   "execution_count": null,
   "id": "acd9155c-43af-4f6e-ada1-47b3fe16ee79",
   "metadata": {},
   "outputs": [],
   "source": []
  }
 ],
 "metadata": {
  "kernelspec": {
   "display_name": "Python 3 (ipykernel)",
   "language": "python",
   "name": "python3"
  },
  "language_info": {
   "codemirror_mode": {
    "name": "ipython",
    "version": 3
   },
   "file_extension": ".py",
   "mimetype": "text/x-python",
   "name": "python",
   "nbconvert_exporter": "python",
   "pygments_lexer": "ipython3",
   "version": "3.10.2"
  }
 },
 "nbformat": 4,
 "nbformat_minor": 5
}
