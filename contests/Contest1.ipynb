{
 "cells": [
  {
   "cell_type": "markdown",
   "id": "ceff41b3-d6a3-4167-8b1d-a8cd3d536f9e",
   "metadata": {},
   "source": [
    "## Chef Jumping (OJUMPS)"
   ]
  },
  {
   "cell_type": "code",
   "execution_count": 1,
   "id": "919517c2-6fad-49c1-a7a1-1c5231574b36",
   "metadata": {},
   "outputs": [],
   "source": [
    "# cook your dish here\n",
    "# k = int(input())\n",
    "def isJumpPossible(target):\n",
    "    arr = [1, 2, 3]\n",
    "    next_step_index = 0\n",
    "    pos = 0\n",
    "    is_possible = False\n",
    "    while pos <= target:\n",
    "        if pos == target:\n",
    "            is_possible = True\n",
    "            break\n",
    "        pos += arr[next_step_index]\n",
    "        next_step_index = (next_step_index + 1) % 3\n",
    "    if is_possible:\n",
    "        return 'yes'\n",
    "    return 'no'\n",
    "\n",
    "def isJumpPossibleV2(target):\n",
    "    arr = ['yes', 'yes', 'no', 'yes', 'no', 'no']\n",
    "    i = target % 6\n",
    "    return arr[i]"
   ]
  },
  {
   "cell_type": "markdown",
   "id": "aeecc69a-6bd4-4075-8e25-6354a5eccbc0",
   "metadata": {},
   "source": [
    "## Uncle Johny (JOHNY)"
   ]
  },
  {
   "cell_type": "code",
   "execution_count": 2,
   "id": "cf2087d1-7aff-482b-948d-7e4e65602c79",
   "metadata": {},
   "outputs": [],
   "source": [
    "def binarySearch(arr, k):\n",
    "    start = 0\n",
    "    end = len(arr)\n",
    "    index = -1\n",
    "    while start <= end:\n",
    "        mid = (start + end) // 2\n",
    "        if arr[mid] == k:\n",
    "            index = mid\n",
    "            break\n",
    "        elif arr[mid] > k:\n",
    "            end = mid - 1\n",
    "        else:\n",
    "            start = mid + 1\n",
    "    return index"
   ]
  },
  {
   "cell_type": "code",
   "execution_count": 3,
   "id": "c9e66305-6d69-4600-8c75-edd878b173d3",
   "metadata": {},
   "outputs": [],
   "source": [
    "def findSongFromPlaylist(n, arr, k):\n",
    "    arr.sort()\n",
    "    idx = binarySearch(arr, k)\n",
    "    return idx + 1"
   ]
  },
  {
   "cell_type": "code",
   "execution_count": 4,
   "id": "6a488126-9ee6-46f4-9a1c-71e73279dcdf",
   "metadata": {},
   "outputs": [],
   "source": [
    "# t = int(input())\n",
    "# for i in range(t):\n",
    "#     n = int(input())\n",
    "#     arr = list(map(int, input().split(' ')))\n",
    "#     k = int(input())\n",
    "#     target = arr[k-1]\n",
    "#     print(findSongFromPlaylist(n, arr, target))"
   ]
  },
  {
   "cell_type": "markdown",
   "id": "c46bee0e-d57c-4dec-b316-95a36f428142",
   "metadata": {},
   "source": [
    "## A - Books (BIT2A)"
   ]
  },
  {
   "cell_type": "code",
   "execution_count": 5,
   "id": "d3a2d64f-b158-4c67-bed8-539fe49c81b5",
   "metadata": {
    "tags": []
   },
   "outputs": [],
   "source": [
    "def findStrictGreaterCount(n, arr):\n",
    "    res = [0 for i in range(n)]\n",
    "    count = 1\n",
    "    prevCount = 0\n",
    "    i = n - 2\n",
    "    currentMin = arr[-1]\n",
    "    while i >= 0:\n",
    "        if arr[i] < currentMin:\n",
    "            res[i] = count + prevCount\n",
    "            prevCount = res[i]\n",
    "            count = 1\n",
    "            currentMin = arr[i]\n",
    "        else:\n",
    "            res[i] = prevCount\n",
    "            count+=1\n",
    "        i -= 1\n",
    "    return res"
   ]
  },
  {
   "cell_type": "code",
   "execution_count": 6,
   "id": "8861355c-44f0-44cb-93cb-d8da019462b9",
   "metadata": {},
   "outputs": [],
   "source": [
    "# t = int(input())\n",
    "# for i in range(t):\n",
    "#     n = int(input())\n",
    "#     arr = list(map(int, input().split(' ')))\n",
    "#     print(findStrictGreaterCount(n, arr))"
   ]
  }
 ],
 "metadata": {
  "kernelspec": {
   "display_name": "Python 3 (ipykernel)",
   "language": "python",
   "name": "python3"
  },
  "language_info": {
   "codemirror_mode": {
    "name": "ipython",
    "version": 3
   },
   "file_extension": ".py",
   "mimetype": "text/x-python",
   "name": "python",
   "nbconvert_exporter": "python",
   "pygments_lexer": "ipython3",
   "version": "3.10.2"
  }
 },
 "nbformat": 4,
 "nbformat_minor": 5
}
