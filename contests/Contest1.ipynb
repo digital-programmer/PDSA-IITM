{
 "cells": [
  {
   "cell_type": "markdown",
   "id": "ceff41b3-d6a3-4167-8b1d-a8cd3d536f9e",
   "metadata": {},
   "source": [
    "## Chef Jumping (OJUMPS)"
   ]
  },
  {
   "cell_type": "code",
   "execution_count": 1,
   "id": "919517c2-6fad-49c1-a7a1-1c5231574b36",
   "metadata": {},
   "outputs": [],
   "source": [
    "# cook your dish here\n",
    "# k = int(input())\n",
    "def isJumpPossible(target):\n",
    "    arr = [1, 2, 3]\n",
    "    next_step_index = 0\n",
    "    pos = 0\n",
    "    is_possible = False\n",
    "    while pos <= target:\n",
    "        if pos == target:\n",
    "            is_possible = True\n",
    "            break\n",
    "        pos += arr[next_step_index]\n",
    "        next_step_index = (next_step_index + 1) % 3\n",
    "    if is_possible:\n",
    "        return 'yes'\n",
    "    return 'no'\n",
    "\n",
    "def isJumpPossibleV2(target):\n",
    "    arr = ['yes', 'yes', 'no', 'yes', 'no', 'no']\n",
    "    i = target % 6\n",
    "    return arr[i]"
   ]
  },
  {
   "cell_type": "code",
   "execution_count": null,
   "id": "8a9bd0c8-5c35-4c98-a206-8368088becf5",
   "metadata": {},
   "outputs": [],
   "source": []
  }
 ],
 "metadata": {
  "kernelspec": {
   "display_name": "Python 3 (ipykernel)",
   "language": "python",
   "name": "python3"
  },
  "language_info": {
   "codemirror_mode": {
    "name": "ipython",
    "version": 3
   },
   "file_extension": ".py",
   "mimetype": "text/x-python",
   "name": "python",
   "nbconvert_exporter": "python",
   "pygments_lexer": "ipython3",
   "version": "3.10.2"
  }
 },
 "nbformat": 4,
 "nbformat_minor": 5
}
