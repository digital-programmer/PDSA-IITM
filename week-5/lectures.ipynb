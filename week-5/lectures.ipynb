{
 "cells": [
  {
   "cell_type": "markdown",
   "id": "d5bc6ebb-c1e7-497c-badb-6272f35376d8",
   "metadata": {
    "tags": []
   },
   "source": [
    "## Weighted and Unweighted directed graph"
   ]
  },
  {
   "cell_type": "code",
   "execution_count": 1,
   "id": "3da89c56-b72e-46c1-b44a-7f8d0b528fdf",
   "metadata": {},
   "outputs": [],
   "source": [
    "dedges = [(0,1,10),(0,2,80),(1,2,6),(1,4,20),(2,3,70),(4,5,50),(4,6,5),(5,6,10)]\n",
    "size = 7"
   ]
  },
  {
   "cell_type": "markdown",
   "id": "72717b34-91b1-46ba-a20b-acd2cd4e9233",
   "metadata": {},
   "source": [
    "### Adjacency matrix representation"
   ]
  },
  {
   "cell_type": "code",
   "execution_count": 2,
   "id": "418e0bdb-c59c-4988-a6fe-98a6928daaf9",
   "metadata": {},
   "outputs": [],
   "source": [
    "import numpy as np\n",
    "WG = np.zeros(shape=(size,size,2))\n",
    "UG = np.zeros(shape=(size,size,2))\n",
    "for i,j,w in dedges:\n",
    "    WG[i,j,0] = 1\n",
    "    WG[i,j,1] = w\n",
    "    UG[i,j,0] = 1\n",
    "    UG[i,j,1] = w\n",
    "    UG[j,i,0] = 1\n",
    "    UG[j,i,1] = w"
   ]
  },
  {
   "cell_type": "markdown",
   "id": "4901ac03-625f-49e3-8179-1ec4208a1457",
   "metadata": {},
   "source": [
    "### Adjacency List representation"
   ]
  },
  {
   "cell_type": "code",
   "execution_count": 3,
   "id": "760042d9-a892-4cb1-9f27-1c6fed3a370a",
   "metadata": {},
   "outputs": [],
   "source": [
    "WL = {}\n",
    "UL = {}\n",
    "for i in range(size):\n",
    "    WL[i] = []\n",
    "    UL[i] = []\n",
    "for (i,j,d) in dedges:\n",
    "    WL[i].append((j,d))\n",
    "    UL[i].append((j,d))\n",
    "    UL[j].append((i,d))"
   ]
  },
  {
   "cell_type": "markdown",
   "id": "c736cf04-05d7-40c3-b512-3fe9a1312ba7",
   "metadata": {
    "tags": []
   },
   "source": [
    "## Djikstra Algorithm - Single source shortest path algorithm"
   ]
  },
  {
   "cell_type": "markdown",
   "id": "d58a69ba-ca94-45cc-8b40-696796a9ad78",
   "metadata": {},
   "source": [
    "### From one source to all other nodes \n",
    "\n",
    "`O(n**2) for both WG and WL`"
   ]
  },
  {
   "cell_type": "code",
   "execution_count": 4,
   "id": "92928cda-74ad-4c72-8f54-6bb7ced89a23",
   "metadata": {},
   "outputs": [
    {
     "data": {
      "text/plain": [
       "{0: 0, 1: 10, 2: 16, 3: 86, 4: 30, 5: 80, 6: 35}"
      ]
     },
     "execution_count": 4,
     "metadata": {},
     "output_type": "execute_result"
    }
   ],
   "source": [
    "def dijkstra(WMat, s):\n",
    "    rows, cols, x = WMat.shape\n",
    "    infinity = float('inf')\n",
    "    visited, distance = {} , {}\n",
    "    for v in range(rows):\n",
    "        visited[v], distance[v] = False, infinity\n",
    "    distance[s] = 0\n",
    "    for u in range(rows):\n",
    "        nextd = min(distance[v] for v in range(rows) if not visited[v])\n",
    "        nextvlist = [v for v in range(rows) if not visited[v] and distance[v] == nextd]\n",
    "        if nextvlist == []:\n",
    "            return\n",
    "        nextv = min(nextvlist)\n",
    "        visited[nextv] = True\n",
    "        for v in range(cols):\n",
    "            if WMat[nextv, v, 0] == 1 and not visited[v]:\n",
    "                distance[v] = min(distance[v], distance[nextv] + int(WMat[nextv, v, 1]))\n",
    "    return distance\n",
    "dijkstra(WG, 0)"
   ]
  },
  {
   "cell_type": "code",
   "execution_count": 5,
   "id": "076fd0f6-caec-476c-8c69-73868fff1b4f",
   "metadata": {},
   "outputs": [
    {
     "data": {
      "text/plain": [
       "{0: 0, 1: 10, 2: 16, 3: 86, 4: 30, 5: 80, 6: 35}"
      ]
     },
     "execution_count": 5,
     "metadata": {},
     "output_type": "execute_result"
    }
   ],
   "source": [
    "def dijkstraList(WList, s):\n",
    "    infinity = float('inf')\n",
    "    visited, distance = {}, {}\n",
    "    for v in WList.keys():\n",
    "        visited[v], distance[v] = False, infinity\n",
    "    distance[s] = 0\n",
    "    for u in WList.keys():\n",
    "        nextd = min([distance[v] for v in WList.keys() if not visited[v]])\n",
    "        nextvlist = [v for v in WList.keys() if not visited[v] and distance[v] == nextd]\n",
    "        if nextvlist == []:\n",
    "            return\n",
    "        nextv = min(nextvlist)\n",
    "        visited[nextv] = True\n",
    "        for v,d in WList[nextv]:\n",
    "            if not visited[v]:\n",
    "                distance[v] = min(distance[v], distance[nextv] + d)\n",
    "    return distance\n",
    "dijkstraList(WL, 0)"
   ]
  },
  {
   "cell_type": "markdown",
   "id": "b482a4ad-b542-478c-80bf-3b15c65d4273",
   "metadata": {},
   "source": [
    "## Bellman Ford - Single source shortest path with negative weights\n",
    "\n",
    "`O(n**3) for adj matrix and O(n*m) for adj List`"
   ]
  },
  {
   "cell_type": "code",
   "execution_count": 6,
   "id": "f6abed69-fddb-4ccc-b2cb-d4fb91a17bae",
   "metadata": {},
   "outputs": [],
   "source": [
    "edges = [(0,1,10),(0,7,8),(1,5,2),(2,1,1),(2,3,1),(3,4,3),(4,5,-1),(5,2,-2),(6,1,-4),(6,5,-1),(7,6,1)]\n",
    "size = 8\n",
    "W = np.zeros(shape=(size,size,2))\n",
    "for (i,j,w) in edges:\n",
    "    W[i,j,0] = 1\n",
    "    W[i,j,1] = w\n",
    "WL = {}\n",
    "for i in range(size):\n",
    "    WL[i] = []\n",
    "for (i,j,d) in edges:\n",
    "    WL[i].append((j,d))"
   ]
  },
  {
   "cell_type": "code",
   "execution_count": 7,
   "id": "e0a1e854-b046-41f1-9ae8-2c93ca0b43b4",
   "metadata": {},
   "outputs": [
    {
     "data": {
      "text/plain": [
       "{0: 0, 1: 5, 2: 5, 3: 6, 4: 9, 5: 7, 6: 9, 7: 8}"
      ]
     },
     "execution_count": 7,
     "metadata": {},
     "output_type": "execute_result"
    }
   ],
   "source": [
    "def bellmanFord(WMat, s):\n",
    "    rows, cols, x = WMat.shape\n",
    "    infinity = float('inf')\n",
    "    distance = {}\n",
    "    for v in range(rows):\n",
    "        distance[v] = infinity\n",
    "    distance[s] = 0\n",
    "    for i in range(rows):\n",
    "        for u in range(rows):\n",
    "            for v in range(cols):\n",
    "                if WMat[u,v,0] == 1:\n",
    "                    distance[v] = min(distance[v], distance[u] + int(WMat[u,v,1]))\n",
    "    return distance\n",
    "bellmanFord(W, 0)"
   ]
  },
  {
   "cell_type": "code",
   "execution_count": 8,
   "id": "664f0d4b-502c-4ac7-bbca-356497cf2823",
   "metadata": {},
   "outputs": [
    {
     "data": {
      "text/plain": [
       "{0: 0, 1: 5, 2: 5, 3: 6, 4: 9, 5: 7, 6: 9, 7: 8}"
      ]
     },
     "execution_count": 8,
     "metadata": {},
     "output_type": "execute_result"
    }
   ],
   "source": [
    "def bellmanFordList(Wlist, s):\n",
    "    infinity = float('inf')\n",
    "    distance = {}\n",
    "    for i in Wlist.keys():\n",
    "        distance[i] = infinity\n",
    "    distance[s] = 0\n",
    "    for i in Wlist.keys():\n",
    "        for u in Wlist.keys():\n",
    "            for v,d in Wlist[u]:\n",
    "                distance[v] = min(distance[v], distance[u] + d)\n",
    "    return distance\n",
    "bellmanFordList(WL, 0)"
   ]
  },
  {
   "cell_type": "markdown",
   "id": "5e047942-6b56-4bb7-b47a-bd2c887bb166",
   "metadata": {
    "tags": []
   },
   "source": [
    "## All pairs shortest path - Flloyd Warshal"
   ]
  },
  {
   "cell_type": "code",
   "execution_count": 9,
   "id": "51cdbb26-c1b3-44bc-8c0b-1991d8b95bb8",
   "metadata": {},
   "outputs": [
    {
     "data": {
      "text/plain": [
       "array([[inf, 10., 16., 86., 30., 80., 35.],\n",
       "       [inf, inf,  6., 76., 20., 70., 25.],\n",
       "       [inf, inf, inf, 70., inf, inf, inf],\n",
       "       [inf, inf, inf, inf, inf, inf, inf],\n",
       "       [inf, inf, inf, inf, inf, 50.,  5.],\n",
       "       [inf, inf, inf, inf, inf, inf, 10.],\n",
       "       [inf, inf, inf, inf, inf, inf, inf]])"
      ]
     },
     "execution_count": 9,
     "metadata": {},
     "output_type": "execute_result"
    }
   ],
   "source": [
    "def floydWarshall(WMat):\n",
    "    rows, cols, x = WMat.shape\n",
    "    infinity = float('inf')\n",
    "    SP = np.zeros(shape=(rows,cols,cols+1))\n",
    "    for i in range(rows):\n",
    "        for j in range(cols):\n",
    "            SP[i,j,0] = infinity\n",
    "            if WMat[i,j,0] == 1:\n",
    "                SP[i,j,0] = WMat[i,j,1]\n",
    "    for k in range(1, cols+1):\n",
    "        for i in range(rows):\n",
    "            for j in range(cols):\n",
    "                SP[i,j,k] = min(SP[i,j,k-1], SP[i,k-1,k-1] + SP[k-1, j, k-1])\n",
    "    return SP[:,:,cols]\n",
    "floydWarshall(WG)"
   ]
  },
  {
   "cell_type": "code",
   "execution_count": 10,
   "id": "92ddec7d-5438-4fb5-934e-c118c1affbac",
   "metadata": {
    "tags": []
   },
   "outputs": [
    {
     "data": {
      "text/plain": [
       "array([[inf, 10., 16., 86., 30., 80., 35.],\n",
       "       [inf, inf,  6., 76., 20., 70., 25.],\n",
       "       [inf, inf, inf, 70., inf, inf, inf],\n",
       "       [inf, inf, inf, inf, inf, inf, inf],\n",
       "       [inf, inf, inf, inf, inf, 50.,  5.],\n",
       "       [inf, inf, inf, inf, inf, inf, 10.],\n",
       "       [inf, inf, inf, inf, inf, inf, inf]])"
      ]
     },
     "execution_count": 10,
     "metadata": {},
     "output_type": "execute_result"
    }
   ],
   "source": [
    "def floydWarshallSimple(WMat):\n",
    "    rows, cols, x = WMat.shape\n",
    "    infinity = float('inf')\n",
    "    SP = np.zeros(shape=(rows,cols))\n",
    "    for i in range(rows):\n",
    "        for j in range(cols):\n",
    "            if WMat[i,j,0] == 1:\n",
    "                SP[i,j] = WMat[i,j,1]\n",
    "            else:\n",
    "                SP[i,j] = infinity\n",
    "    for k in range(rows):\n",
    "        for i in range(rows):\n",
    "            for j in range(cols):\n",
    "                SP[i,j] = min(SP[i,j], SP[i,k] + SP[k,j])\n",
    "    return SP\n",
    "floydWarshallSimple(WG)"
   ]
  },
  {
   "cell_type": "markdown",
   "id": "a4c1ade5-22ff-4b58-aac9-28a59067de22",
   "metadata": {},
   "source": [
    "## Minimum Cost Spanning Tree"
   ]
  },
  {
   "cell_type": "markdown",
   "id": "aa8fbc45-3f2c-4628-b203-e6b3be199f22",
   "metadata": {},
   "source": [
    "## Prims"
   ]
  },
  {
   "cell_type": "code",
   "execution_count": 23,
   "id": "c46dc690-d79c-40e8-a6be-c35e3577d9e1",
   "metadata": {},
   "outputs": [
    {
     "data": {
      "text/plain": [
       "[(0, 7), (7, 6), (6, 1), (6, 5), (5, 2), (2, 3), (3, 4)]"
      ]
     },
     "execution_count": 23,
     "metadata": {},
     "output_type": "execute_result"
    }
   ],
   "source": [
    "import sys\n",
    "def primList(Wlist):\n",
    "    infinity = sys.maxsize + 1\n",
    "    visited, distance, TreeEdges = {}, {}, []\n",
    "    for v in Wlist.keys():\n",
    "        visited[v],distance[v] = False, infinity\n",
    "    visited[0] = True\n",
    "    for v,d in Wlist[0]:\n",
    "        distance[v] = d\n",
    "    for i in Wlist.keys():\n",
    "        mindist, nextv = infinity, None\n",
    "        for u in Wlist.keys():\n",
    "            for v,d in Wlist[u]:\n",
    "                if visited[u] and not visited[v] and d<mindist:\n",
    "                    mindist, nextv, nexte = d, v, (u,v)\n",
    "        if nextv is None:\n",
    "            break\n",
    "        visited[nextv] = True\n",
    "        TreeEdges.append(nexte)\n",
    "        for v,d in Wlist[nextv]:\n",
    "            if not visited[v]:\n",
    "                distance[v] = min(distance[v], d)\n",
    "    return TreeEdges\n",
    "primList(WL)"
   ]
  },
  {
   "cell_type": "code",
   "execution_count": 22,
   "id": "2ddcd0de-eb9a-46ef-99dc-09d01b1d29cb",
   "metadata": {},
   "outputs": [
    {
     "data": {
      "text/plain": [
       "{0: -1, 1: 6, 2: 5, 3: 2, 4: 3, 5: 1, 6: 7, 7: 0}"
      ]
     },
     "execution_count": 22,
     "metadata": {},
     "output_type": "execute_result"
    }
   ],
   "source": [
    "def primListBetter(Wlist):\n",
    "    infinity = sys.maxsize + 1\n",
    "    visited, distance, nbr = {}, {}, {}\n",
    "    for v in Wlist.keys():\n",
    "        visited[v], distance[v], nbr[v] = False, infinity, -1\n",
    "    visited[0] = True\n",
    "    for v,d in Wlist[0]:\n",
    "        distance[v], nbr[v] = d, 0\n",
    "    for i in range(1, len(Wlist.keys())):\n",
    "        nextd = min([distance[v] for v in Wlist.keys() if not visited[v]])\n",
    "        nextvlist = [v for v in Wlist.keys() if not visited[v] and distance[v] == nextd]\n",
    "        if nextvlist == []:\n",
    "            break\n",
    "        nextv = min(nextvlist)\n",
    "        visited[nextv] = True\n",
    "        for v,d in Wlist[nextv]:\n",
    "            if not visited[v]:\n",
    "                distance[v], nbr[v] = min(distance[v], d), nextv\n",
    "    return nbr\n",
    "primListBetter(WL)"
   ]
  },
  {
   "cell_type": "markdown",
   "id": "339a68c0-0211-4c79-a0fd-1d26115c773b",
   "metadata": {},
   "source": [
    "## Krushkal Algorithm (O^2)"
   ]
  },
  {
   "cell_type": "code",
   "execution_count": 26,
   "id": "73716285-976e-49c9-beb6-58b89e0444eb",
   "metadata": {},
   "outputs": [
    {
     "data": {
      "text/plain": [
       "[(6, 1), (5, 2), (4, 5), (6, 5), (2, 3), (7, 6), (0, 7)]"
      ]
     },
     "execution_count": 26,
     "metadata": {},
     "output_type": "execute_result"
    }
   ],
   "source": [
    "def kruskal(Wlist):\n",
    "    edges, component, TE = [], {}, []\n",
    "    for u in Wlist.keys():\n",
    "        edges.extend([(d,u,v) for v,d in Wlist[u]])\n",
    "        component[u] = u\n",
    "    edges.sort()\n",
    "    for d,u,v in edges:\n",
    "        if component[u] != component[v]:\n",
    "            TE.append((u,v))\n",
    "            c = component[u]\n",
    "            for w in Wlist.keys():\n",
    "                if component[w] == c:\n",
    "                    component[w] = component[v]\n",
    "    return TE\n",
    "kruskal(WL)"
   ]
  }
 ],
 "metadata": {
  "kernelspec": {
   "display_name": "Python 3 (ipykernel)",
   "language": "python",
   "name": "python3"
  },
  "language_info": {
   "codemirror_mode": {
    "name": "ipython",
    "version": 3
   },
   "file_extension": ".py",
   "mimetype": "text/x-python",
   "name": "python",
   "nbconvert_exporter": "python",
   "pygments_lexer": "ipython3",
   "version": "3.10.2"
  }
 },
 "nbformat": 4,
 "nbformat_minor": 5
}
