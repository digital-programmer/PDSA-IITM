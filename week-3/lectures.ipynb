{
 "cells": [
  {
   "cell_type": "markdown",
   "id": "fbe3db3d-2956-41f1-ad58-9e52e22fd4e4",
   "metadata": {},
   "source": [
    "## Quick Sort"
   ]
  },
  {
   "cell_type": "code",
   "execution_count": 1,
   "id": "325486bf-836f-4e5f-b3de-8f6c1f04eaea",
   "metadata": {},
   "outputs": [],
   "source": [
    "def QuickSort(L, l, r):\n",
    "    if r - l <= 1:\n",
    "        return L\n",
    "    pivot, lower, upper = L[l], l+1, l+1\n",
    "    for i in range(l+1,r):\n",
    "        if L[i] > pivot:\n",
    "            upper += 1\n",
    "        else:\n",
    "            L[i], L[lower] = L[lower], L[i]\n",
    "            lower, upper = lower + 1, upper + 1\n",
    "    L[l], L[lower - 1] = L[lower - 1], L[l]\n",
    "    lower = lower - 1\n",
    "    QuickSort(L, l, lower)\n",
    "    QuickSort(L, lower + 1, upper)\n",
    "    return L"
   ]
  },
  {
   "cell_type": "code",
   "execution_count": 3,
   "id": "8d5f928a-c674-4ca7-b7a8-a835ef38af41",
   "metadata": {},
   "outputs": [
    {
     "data": {
      "text/plain": [
       "[-1]"
      ]
     },
     "execution_count": 3,
     "metadata": {},
     "output_type": "execute_result"
    }
   ],
   "source": [
    "QuickSort([-1], 0, 1)"
   ]
  },
  {
   "cell_type": "code",
   "execution_count": null,
   "id": "d456f034-a46c-473c-9a70-c08ab56dd324",
   "metadata": {},
   "outputs": [],
   "source": []
  }
 ],
 "metadata": {
  "kernelspec": {
   "display_name": "Python 3 (ipykernel)",
   "language": "python",
   "name": "python3"
  },
  "language_info": {
   "codemirror_mode": {
    "name": "ipython",
    "version": 3
   },
   "file_extension": ".py",
   "mimetype": "text/x-python",
   "name": "python",
   "nbconvert_exporter": "python",
   "pygments_lexer": "ipython3",
   "version": "3.10.2"
  }
 },
 "nbformat": 4,
 "nbformat_minor": 5
}
